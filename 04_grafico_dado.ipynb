{
 "cells": [
  {
   "cell_type": "markdown",
   "metadata": {},
   "source": [
    "# Gráfico de frequência de termos\n",
    "\n",
    "O gráfico contém termos de composição a partir do termo “Dado” extraídos do corpus de dados constituído por artigos completos e resumos expandidos publicados nos anais do Encontro Nacional de Pesquisa em Ciência da Informação – ENANCIB entre os anos de 2012 a 2018. "
   ]
  },
  {
   "cell_type": "code",
   "execution_count": 1,
   "metadata": {},
   "outputs": [
    {
     "data": {
      "text/html": [
       "        <script type=\"text/javascript\">\n",
       "        window.PlotlyConfig = {MathJaxConfig: 'local'};\n",
       "        if (window.MathJax) {MathJax.Hub.Config({SVG: {font: \"STIX-Web\"}});}\n",
       "        if (typeof require !== 'undefined') {\n",
       "        require.undef(\"plotly\");\n",
       "        requirejs.config({\n",
       "            paths: {\n",
       "                'plotly': ['https://cdn.plot.ly/plotly-latest.min']\n",
       "            }\n",
       "        });\n",
       "        require(['plotly'], function(Plotly) {\n",
       "            window._Plotly = Plotly;\n",
       "        });\n",
       "        }\n",
       "        </script>\n",
       "        "
      ]
     },
     "metadata": {},
     "output_type": "display_data"
    }
   ],
   "source": [
    "import plotly \n",
    "import plotly.graph_objs as go\n",
    "import plotly.offline as py\n",
    "py.init_notebook_mode(connected=True)\n",
    "from plotly.offline import download_plotlyjs, init_notebook_mode, plot, iplot"
   ]
  },
  {
   "cell_type": "code",
   "execution_count": 2,
   "metadata": {
    "scrolled": true
   },
   "outputs": [
    {
     "data": {
      "application/vnd.plotly.v1+json": {
       "config": {
        "linkText": "Export to plot.ly",
        "plotlyServerURL": "https://plot.ly",
        "showLink": false
       },
       "data": [
        {
         "mode": "markers+lines",
         "name": "dado",
         "type": "scatter",
         "x": [
          "2012",
          "2013",
          "2014",
          "2015",
          "2016",
          "2017",
          "2018"
         ],
         "y": [
          2824,
          2896,
          3682,
          3019,
          4028,
          5606,
          5824
         ]
        },
        {
         "mode": "markers+lines",
         "name": "dados_informação_conhecimento",
         "type": "scatter",
         "x": [
          "2012",
          "2013",
          "2014",
          "2015",
          "2016",
          "2017",
          "2018"
         ],
         "y": [
          20,
          0,
          14,
          0,
          0,
          13,
          0
         ]
        },
        {
         "mode": "markers+lines",
         "name": "ciencia_informação",
         "type": "scatter",
         "x": [
          "2012",
          "2013",
          "2014",
          "2015",
          "2016",
          "2017",
          "2018"
         ],
         "y": [
          563,
          530,
          525,
          421,
          627,
          654,
          766
         ]
        },
        {
         "mode": "markers+lines",
         "name": "banco_dados",
         "type": "scatter",
         "x": [
          "2012",
          "2013",
          "2014",
          "2015",
          "2016",
          "2017",
          "2018"
         ],
         "y": [
          162,
          153,
          130,
          139,
          107,
          66,
          133
         ]
        },
        {
         "mode": "markers+lines",
         "name": "base_dados",
         "type": "scatter",
         "x": [
          "2012",
          "2013",
          "2014",
          "2015",
          "2016",
          "2017",
          "2018"
         ],
         "y": [
          404,
          401,
          458,
          427,
          528,
          558,
          569
         ]
        },
        {
         "mode": "markers+lines",
         "name": "ciclo_vida_dados",
         "type": "scatter",
         "x": [
          "2012",
          "2013",
          "2014",
          "2015",
          "2016",
          "2017",
          "2018"
         ],
         "y": [
          90,
          39,
          0,
          0,
          12,
          0,
          13
         ]
        },
        {
         "mode": "markers+lines",
         "name": "coleta_dados",
         "type": "scatter",
         "x": [
          "2012",
          "2013",
          "2014",
          "2015",
          "2016",
          "2017",
          "2018"
         ],
         "y": [
          201,
          209,
          264,
          205,
          262,
          302,
          301
         ]
        },
        {
         "mode": "markers+lines",
         "name": "conjuntos_dados",
         "type": "scatter",
         "x": [
          "2012",
          "2013",
          "2014",
          "2015",
          "2016",
          "2017",
          "2018"
         ],
         "y": [
          43,
          0,
          82,
          68,
          77,
          193,
          162
         ]
        },
        {
         "mode": "markers+lines",
         "name": "dados_abertos",
         "type": "scatter",
         "x": [
          "2012",
          "2013",
          "2014",
          "2015",
          "2016",
          "2017",
          "2018"
         ],
         "y": [
          52,
          27,
          36,
          105,
          68,
          202,
          206
         ]
        },
        {
         "mode": "markers+lines",
         "name": "dados_altmétricos",
         "type": "scatter",
         "x": [
          "2012",
          "2013",
          "2014",
          "2015",
          "2016",
          "2017",
          "2018"
         ],
         "y": [
          0,
          0,
          40,
          0,
          0,
          0,
          0
         ]
        },
        {
         "mode": "markers+lines",
         "name": "dados_bibliográficos",
         "type": "scatter",
         "x": [
          "2012",
          "2013",
          "2014",
          "2015",
          "2016",
          "2017",
          "2018"
         ],
         "y": [
          35,
          32,
          0,
          0,
          0,
          0,
          61
         ]
        },
        {
         "mode": "markers+lines",
         "name": "dados_científicos",
         "type": "scatter",
         "x": [
          "2012",
          "2013",
          "2014",
          "2015",
          "2016",
          "2017",
          "2018"
         ],
         "y": [
          0,
          0,
          31,
          0,
          0,
          97,
          52
         ]
        },
        {
         "mode": "markers+lines",
         "name": "dados_coletados",
         "type": "scatter",
         "x": [
          "2012",
          "2013",
          "2014",
          "2015",
          "2016",
          "2017",
          "2018"
         ],
         "y": [
          68,
          85,
          103,
          77,
          98,
          158,
          129
         ]
        },
        {
         "mode": "markers+lines",
         "name": "dados_governamentais",
         "type": "scatter",
         "x": [
          "2012",
          "2013",
          "2014",
          "2015",
          "2016",
          "2017",
          "2018"
         ],
         "y": [
          0,
          0,
          0,
          39,
          34,
          34,
          0
         ]
        },
        {
         "mode": "markers+lines",
         "name": "dados_imagens",
         "type": "scatter",
         "x": [
          "2012",
          "2013",
          "2014",
          "2015",
          "2016",
          "2017",
          "2018"
         ],
         "y": [
          0,
          25,
          0,
          0,
          0,
          0,
          0
         ]
        },
        {
         "mode": "markers+lines",
         "name": "dados_interligados",
         "type": "scatter",
         "x": [
          "2012",
          "2013",
          "2014",
          "2015",
          "2016",
          "2017",
          "2018"
         ],
         "y": [
          0,
          0,
          29,
          0,
          0,
          0,
          0
         ]
        },
        {
         "mode": "markers+lines",
         "name": "dados_obtidos",
         "type": "scatter",
         "x": [
          "2012",
          "2013",
          "2014",
          "2015",
          "2016",
          "2017",
          "2018"
         ],
         "y": [
          26,
          33,
          36,
          33,
          65,
          48,
          53
         ]
        },
        {
         "mode": "markers+lines",
         "name": "dados_pesquisa",
         "type": "scatter",
         "x": [
          "2012",
          "2013",
          "2014",
          "2015",
          "2016",
          "2017",
          "2018"
         ],
         "y": [
          137,
          225,
          286,
          221,
          247,
          438,
          508
         ]
        },
        {
         "mode": "markers+lines",
         "name": "dados_quantitativos",
         "type": "scatter",
         "x": [
          "2012",
          "2013",
          "2014",
          "2015",
          "2016",
          "2017",
          "2018"
         ],
         "y": [
          0,
          23,
          0,
          34,
          0,
          0,
          0
         ]
        },
        {
         "mode": "markers+lines",
         "name": "dados_web",
         "type": "scatter",
         "x": [
          "2012",
          "2013",
          "2014",
          "2015",
          "2016",
          "2017",
          "2018"
         ],
         "y": [
          0,
          27,
          0,
          0,
          0,
          66,
          39
         ]
        },
        {
         "mode": "markers+lines",
         "name": "fonte_dados",
         "type": "scatter",
         "x": [
          "2012",
          "2013",
          "2014",
          "2015",
          "2016",
          "2017",
          "2018"
         ],
         "y": [
          139,
          139,
          241,
          167,
          148,
          285,
          290
         ]
        },
        {
         "mode": "markers+lines",
         "name": "fonte_dados_pesquisa",
         "type": "scatter",
         "x": [
          "2012",
          "2013",
          "2014",
          "2015",
          "2016",
          "2017",
          "2018"
         ],
         "y": [
          87,
          125,
          0,
          145,
          91,
          248,
          242
         ]
        },
        {
         "mode": "markers+lines",
         "name": "gestão_dados",
         "type": "scatter",
         "x": [
          "2012",
          "2013",
          "2014",
          "2015",
          "2016",
          "2017",
          "2018"
         ],
         "y": [
          0,
          0,
          0,
          0,
          0,
          74,
          49
         ]
        },
        {
         "mode": "markers+lines",
         "name": "instrumento_coleta_dados",
         "type": "scatter",
         "x": [
          "2012",
          "2013",
          "2014",
          "2015",
          "2016",
          "2017",
          "2018"
         ],
         "y": [
          45,
          46,
          16,
          30,
          39,
          38,
          44
         ]
        },
        {
         "mode": "markers+lines",
         "name": "mineração_dados",
         "type": "scatter",
         "x": [
          "2012",
          "2013",
          "2014",
          "2015",
          "2016",
          "2017",
          "2018"
         ],
         "y": [
          0,
          0,
          0,
          33,
          34,
          0,
          0
         ]
        },
        {
         "mode": "markers+lines",
         "name": "modelagem_dados",
         "type": "scatter",
         "x": [
          "2012",
          "2013",
          "2014",
          "2015",
          "2016",
          "2017",
          "2018"
         ],
         "y": [
          26,
          0,
          0,
          0,
          0,
          0,
          0
         ]
        },
        {
         "mode": "markers+lines",
         "name": "dado_informação",
         "type": "scatter",
         "x": [
          "2012",
          "2013",
          "2014",
          "2015",
          "2016",
          "2017",
          "2018"
         ],
         "y": [
          81,
          49,
          97,
          81,
          89,
          136,
          112
         ]
        }
       ],
       "layout": {
        "template": {
         "data": {
          "bar": [
           {
            "error_x": {
             "color": "#2a3f5f"
            },
            "error_y": {
             "color": "#2a3f5f"
            },
            "marker": {
             "line": {
              "color": "#E5ECF6",
              "width": 0.5
             }
            },
            "type": "bar"
           }
          ],
          "barpolar": [
           {
            "marker": {
             "line": {
              "color": "#E5ECF6",
              "width": 0.5
             }
            },
            "type": "barpolar"
           }
          ],
          "carpet": [
           {
            "aaxis": {
             "endlinecolor": "#2a3f5f",
             "gridcolor": "white",
             "linecolor": "white",
             "minorgridcolor": "white",
             "startlinecolor": "#2a3f5f"
            },
            "baxis": {
             "endlinecolor": "#2a3f5f",
             "gridcolor": "white",
             "linecolor": "white",
             "minorgridcolor": "white",
             "startlinecolor": "#2a3f5f"
            },
            "type": "carpet"
           }
          ],
          "choropleth": [
           {
            "colorbar": {
             "outlinewidth": 0,
             "ticks": ""
            },
            "type": "choropleth"
           }
          ],
          "contour": [
           {
            "colorbar": {
             "outlinewidth": 0,
             "ticks": ""
            },
            "colorscale": [
             [
              0,
              "#0d0887"
             ],
             [
              0.1111111111111111,
              "#46039f"
             ],
             [
              0.2222222222222222,
              "#7201a8"
             ],
             [
              0.3333333333333333,
              "#9c179e"
             ],
             [
              0.4444444444444444,
              "#bd3786"
             ],
             [
              0.5555555555555556,
              "#d8576b"
             ],
             [
              0.6666666666666666,
              "#ed7953"
             ],
             [
              0.7777777777777778,
              "#fb9f3a"
             ],
             [
              0.8888888888888888,
              "#fdca26"
             ],
             [
              1,
              "#f0f921"
             ]
            ],
            "type": "contour"
           }
          ],
          "contourcarpet": [
           {
            "colorbar": {
             "outlinewidth": 0,
             "ticks": ""
            },
            "type": "contourcarpet"
           }
          ],
          "heatmap": [
           {
            "colorbar": {
             "outlinewidth": 0,
             "ticks": ""
            },
            "colorscale": [
             [
              0,
              "#0d0887"
             ],
             [
              0.1111111111111111,
              "#46039f"
             ],
             [
              0.2222222222222222,
              "#7201a8"
             ],
             [
              0.3333333333333333,
              "#9c179e"
             ],
             [
              0.4444444444444444,
              "#bd3786"
             ],
             [
              0.5555555555555556,
              "#d8576b"
             ],
             [
              0.6666666666666666,
              "#ed7953"
             ],
             [
              0.7777777777777778,
              "#fb9f3a"
             ],
             [
              0.8888888888888888,
              "#fdca26"
             ],
             [
              1,
              "#f0f921"
             ]
            ],
            "type": "heatmap"
           }
          ],
          "heatmapgl": [
           {
            "colorbar": {
             "outlinewidth": 0,
             "ticks": ""
            },
            "colorscale": [
             [
              0,
              "#0d0887"
             ],
             [
              0.1111111111111111,
              "#46039f"
             ],
             [
              0.2222222222222222,
              "#7201a8"
             ],
             [
              0.3333333333333333,
              "#9c179e"
             ],
             [
              0.4444444444444444,
              "#bd3786"
             ],
             [
              0.5555555555555556,
              "#d8576b"
             ],
             [
              0.6666666666666666,
              "#ed7953"
             ],
             [
              0.7777777777777778,
              "#fb9f3a"
             ],
             [
              0.8888888888888888,
              "#fdca26"
             ],
             [
              1,
              "#f0f921"
             ]
            ],
            "type": "heatmapgl"
           }
          ],
          "histogram": [
           {
            "marker": {
             "colorbar": {
              "outlinewidth": 0,
              "ticks": ""
             }
            },
            "type": "histogram"
           }
          ],
          "histogram2d": [
           {
            "colorbar": {
             "outlinewidth": 0,
             "ticks": ""
            },
            "colorscale": [
             [
              0,
              "#0d0887"
             ],
             [
              0.1111111111111111,
              "#46039f"
             ],
             [
              0.2222222222222222,
              "#7201a8"
             ],
             [
              0.3333333333333333,
              "#9c179e"
             ],
             [
              0.4444444444444444,
              "#bd3786"
             ],
             [
              0.5555555555555556,
              "#d8576b"
             ],
             [
              0.6666666666666666,
              "#ed7953"
             ],
             [
              0.7777777777777778,
              "#fb9f3a"
             ],
             [
              0.8888888888888888,
              "#fdca26"
             ],
             [
              1,
              "#f0f921"
             ]
            ],
            "type": "histogram2d"
           }
          ],
          "histogram2dcontour": [
           {
            "colorbar": {
             "outlinewidth": 0,
             "ticks": ""
            },
            "colorscale": [
             [
              0,
              "#0d0887"
             ],
             [
              0.1111111111111111,
              "#46039f"
             ],
             [
              0.2222222222222222,
              "#7201a8"
             ],
             [
              0.3333333333333333,
              "#9c179e"
             ],
             [
              0.4444444444444444,
              "#bd3786"
             ],
             [
              0.5555555555555556,
              "#d8576b"
             ],
             [
              0.6666666666666666,
              "#ed7953"
             ],
             [
              0.7777777777777778,
              "#fb9f3a"
             ],
             [
              0.8888888888888888,
              "#fdca26"
             ],
             [
              1,
              "#f0f921"
             ]
            ],
            "type": "histogram2dcontour"
           }
          ],
          "mesh3d": [
           {
            "colorbar": {
             "outlinewidth": 0,
             "ticks": ""
            },
            "type": "mesh3d"
           }
          ],
          "parcoords": [
           {
            "line": {
             "colorbar": {
              "outlinewidth": 0,
              "ticks": ""
             }
            },
            "type": "parcoords"
           }
          ],
          "pie": [
           {
            "automargin": true,
            "type": "pie"
           }
          ],
          "scatter": [
           {
            "marker": {
             "colorbar": {
              "outlinewidth": 0,
              "ticks": ""
             }
            },
            "type": "scatter"
           }
          ],
          "scatter3d": [
           {
            "line": {
             "colorbar": {
              "outlinewidth": 0,
              "ticks": ""
             }
            },
            "marker": {
             "colorbar": {
              "outlinewidth": 0,
              "ticks": ""
             }
            },
            "type": "scatter3d"
           }
          ],
          "scattercarpet": [
           {
            "marker": {
             "colorbar": {
              "outlinewidth": 0,
              "ticks": ""
             }
            },
            "type": "scattercarpet"
           }
          ],
          "scattergeo": [
           {
            "marker": {
             "colorbar": {
              "outlinewidth": 0,
              "ticks": ""
             }
            },
            "type": "scattergeo"
           }
          ],
          "scattergl": [
           {
            "marker": {
             "colorbar": {
              "outlinewidth": 0,
              "ticks": ""
             }
            },
            "type": "scattergl"
           }
          ],
          "scattermapbox": [
           {
            "marker": {
             "colorbar": {
              "outlinewidth": 0,
              "ticks": ""
             }
            },
            "type": "scattermapbox"
           }
          ],
          "scatterpolar": [
           {
            "marker": {
             "colorbar": {
              "outlinewidth": 0,
              "ticks": ""
             }
            },
            "type": "scatterpolar"
           }
          ],
          "scatterpolargl": [
           {
            "marker": {
             "colorbar": {
              "outlinewidth": 0,
              "ticks": ""
             }
            },
            "type": "scatterpolargl"
           }
          ],
          "scatterternary": [
           {
            "marker": {
             "colorbar": {
              "outlinewidth": 0,
              "ticks": ""
             }
            },
            "type": "scatterternary"
           }
          ],
          "surface": [
           {
            "colorbar": {
             "outlinewidth": 0,
             "ticks": ""
            },
            "colorscale": [
             [
              0,
              "#0d0887"
             ],
             [
              0.1111111111111111,
              "#46039f"
             ],
             [
              0.2222222222222222,
              "#7201a8"
             ],
             [
              0.3333333333333333,
              "#9c179e"
             ],
             [
              0.4444444444444444,
              "#bd3786"
             ],
             [
              0.5555555555555556,
              "#d8576b"
             ],
             [
              0.6666666666666666,
              "#ed7953"
             ],
             [
              0.7777777777777778,
              "#fb9f3a"
             ],
             [
              0.8888888888888888,
              "#fdca26"
             ],
             [
              1,
              "#f0f921"
             ]
            ],
            "type": "surface"
           }
          ],
          "table": [
           {
            "cells": {
             "fill": {
              "color": "#EBF0F8"
             },
             "line": {
              "color": "white"
             }
            },
            "header": {
             "fill": {
              "color": "#C8D4E3"
             },
             "line": {
              "color": "white"
             }
            },
            "type": "table"
           }
          ]
         },
         "layout": {
          "annotationdefaults": {
           "arrowcolor": "#2a3f5f",
           "arrowhead": 0,
           "arrowwidth": 1
          },
          "coloraxis": {
           "colorbar": {
            "outlinewidth": 0,
            "ticks": ""
           }
          },
          "colorscale": {
           "diverging": [
            [
             0,
             "#8e0152"
            ],
            [
             0.1,
             "#c51b7d"
            ],
            [
             0.2,
             "#de77ae"
            ],
            [
             0.3,
             "#f1b6da"
            ],
            [
             0.4,
             "#fde0ef"
            ],
            [
             0.5,
             "#f7f7f7"
            ],
            [
             0.6,
             "#e6f5d0"
            ],
            [
             0.7,
             "#b8e186"
            ],
            [
             0.8,
             "#7fbc41"
            ],
            [
             0.9,
             "#4d9221"
            ],
            [
             1,
             "#276419"
            ]
           ],
           "sequential": [
            [
             0,
             "#0d0887"
            ],
            [
             0.1111111111111111,
             "#46039f"
            ],
            [
             0.2222222222222222,
             "#7201a8"
            ],
            [
             0.3333333333333333,
             "#9c179e"
            ],
            [
             0.4444444444444444,
             "#bd3786"
            ],
            [
             0.5555555555555556,
             "#d8576b"
            ],
            [
             0.6666666666666666,
             "#ed7953"
            ],
            [
             0.7777777777777778,
             "#fb9f3a"
            ],
            [
             0.8888888888888888,
             "#fdca26"
            ],
            [
             1,
             "#f0f921"
            ]
           ],
           "sequentialminus": [
            [
             0,
             "#0d0887"
            ],
            [
             0.1111111111111111,
             "#46039f"
            ],
            [
             0.2222222222222222,
             "#7201a8"
            ],
            [
             0.3333333333333333,
             "#9c179e"
            ],
            [
             0.4444444444444444,
             "#bd3786"
            ],
            [
             0.5555555555555556,
             "#d8576b"
            ],
            [
             0.6666666666666666,
             "#ed7953"
            ],
            [
             0.7777777777777778,
             "#fb9f3a"
            ],
            [
             0.8888888888888888,
             "#fdca26"
            ],
            [
             1,
             "#f0f921"
            ]
           ]
          },
          "colorway": [
           "#636efa",
           "#EF553B",
           "#00cc96",
           "#ab63fa",
           "#FFA15A",
           "#19d3f3",
           "#FF6692",
           "#B6E880",
           "#FF97FF",
           "#FECB52"
          ],
          "font": {
           "color": "#2a3f5f"
          },
          "geo": {
           "bgcolor": "white",
           "lakecolor": "white",
           "landcolor": "#E5ECF6",
           "showlakes": true,
           "showland": true,
           "subunitcolor": "white"
          },
          "hoverlabel": {
           "align": "left"
          },
          "hovermode": "closest",
          "mapbox": {
           "style": "light"
          },
          "paper_bgcolor": "white",
          "plot_bgcolor": "#E5ECF6",
          "polar": {
           "angularaxis": {
            "gridcolor": "white",
            "linecolor": "white",
            "ticks": ""
           },
           "bgcolor": "#E5ECF6",
           "radialaxis": {
            "gridcolor": "white",
            "linecolor": "white",
            "ticks": ""
           }
          },
          "scene": {
           "xaxis": {
            "backgroundcolor": "#E5ECF6",
            "gridcolor": "white",
            "gridwidth": 2,
            "linecolor": "white",
            "showbackground": true,
            "ticks": "",
            "zerolinecolor": "white"
           },
           "yaxis": {
            "backgroundcolor": "#E5ECF6",
            "gridcolor": "white",
            "gridwidth": 2,
            "linecolor": "white",
            "showbackground": true,
            "ticks": "",
            "zerolinecolor": "white"
           },
           "zaxis": {
            "backgroundcolor": "#E5ECF6",
            "gridcolor": "white",
            "gridwidth": 2,
            "linecolor": "white",
            "showbackground": true,
            "ticks": "",
            "zerolinecolor": "white"
           }
          },
          "shapedefaults": {
           "line": {
            "color": "#2a3f5f"
           }
          },
          "ternary": {
           "aaxis": {
            "gridcolor": "white",
            "linecolor": "white",
            "ticks": ""
           },
           "baxis": {
            "gridcolor": "white",
            "linecolor": "white",
            "ticks": ""
           },
           "bgcolor": "#E5ECF6",
           "caxis": {
            "gridcolor": "white",
            "linecolor": "white",
            "ticks": ""
           }
          },
          "title": {
           "x": 0.05
          },
          "xaxis": {
           "automargin": true,
           "gridcolor": "white",
           "linecolor": "white",
           "ticks": "",
           "title": {
            "standoff": 15
           },
           "zerolinecolor": "white",
           "zerolinewidth": 2
          },
          "yaxis": {
           "automargin": true,
           "gridcolor": "white",
           "linecolor": "white",
           "ticks": "",
           "title": {
            "standoff": 15
           },
           "zerolinecolor": "white",
           "zerolinewidth": 2
          }
         }
        },
        "title": {
         "text": "Frequência dos termos de composição a partir do termo “Dado”",
         "x": 0,
         "xref": "paper"
        },
        "xaxis": {
         "title": {
          "font": {
           "color": "#7f7f7f",
           "family": "Courier New, monospace",
           "size": 18
          },
          "text": "Anos"
         }
        },
        "yaxis": {
         "title": {
          "font": {
           "color": "#7f7f7f",
           "family": "Courier New, monospace",
           "size": 18
          },
          "text": "Frequência"
         }
        }
       }
      },
      "text/html": [
       "<div>\n",
       "        \n",
       "        \n",
       "            <div id=\"b7941f7c-c9a2-4c06-8c92-864218aed44a\" class=\"plotly-graph-div\" style=\"height:525px; width:100%;\"></div>\n",
       "            <script type=\"text/javascript\">\n",
       "                require([\"plotly\"], function(Plotly) {\n",
       "                    window.PLOTLYENV=window.PLOTLYENV || {};\n",
       "                    \n",
       "                if (document.getElementById(\"b7941f7c-c9a2-4c06-8c92-864218aed44a\")) {\n",
       "                    Plotly.newPlot(\n",
       "                        'b7941f7c-c9a2-4c06-8c92-864218aed44a',\n",
       "                        [{\"mode\": \"markers+lines\", \"name\": \"dado\", \"type\": \"scatter\", \"x\": [\"2012\", \"2013\", \"2014\", \"2015\", \"2016\", \"2017\", \"2018\"], \"y\": [2824, 2896, 3682, 3019, 4028, 5606, 5824]}, {\"mode\": \"markers+lines\", \"name\": \"dados_informa\\u00e7\\u00e3o_conhecimento\", \"type\": \"scatter\", \"x\": [\"2012\", \"2013\", \"2014\", \"2015\", \"2016\", \"2017\", \"2018\"], \"y\": [20, 0, 14, 0, 0, 13, 0]}, {\"mode\": \"markers+lines\", \"name\": \"ciencia_informa\\u00e7\\u00e3o\", \"type\": \"scatter\", \"x\": [\"2012\", \"2013\", \"2014\", \"2015\", \"2016\", \"2017\", \"2018\"], \"y\": [563, 530, 525, 421, 627, 654, 766]}, {\"mode\": \"markers+lines\", \"name\": \"banco_dados\", \"type\": \"scatter\", \"x\": [\"2012\", \"2013\", \"2014\", \"2015\", \"2016\", \"2017\", \"2018\"], \"y\": [162, 153, 130, 139, 107, 66, 133]}, {\"mode\": \"markers+lines\", \"name\": \"base_dados\", \"type\": \"scatter\", \"x\": [\"2012\", \"2013\", \"2014\", \"2015\", \"2016\", \"2017\", \"2018\"], \"y\": [404, 401, 458, 427, 528, 558, 569]}, {\"mode\": \"markers+lines\", \"name\": \"ciclo_vida_dados\", \"type\": \"scatter\", \"x\": [\"2012\", \"2013\", \"2014\", \"2015\", \"2016\", \"2017\", \"2018\"], \"y\": [90, 39, 0, 0, 12, 0, 13]}, {\"mode\": \"markers+lines\", \"name\": \"coleta_dados\", \"type\": \"scatter\", \"x\": [\"2012\", \"2013\", \"2014\", \"2015\", \"2016\", \"2017\", \"2018\"], \"y\": [201, 209, 264, 205, 262, 302, 301]}, {\"mode\": \"markers+lines\", \"name\": \"conjuntos_dados\", \"type\": \"scatter\", \"x\": [\"2012\", \"2013\", \"2014\", \"2015\", \"2016\", \"2017\", \"2018\"], \"y\": [43, 0, 82, 68, 77, 193, 162]}, {\"mode\": \"markers+lines\", \"name\": \"dados_abertos\", \"type\": \"scatter\", \"x\": [\"2012\", \"2013\", \"2014\", \"2015\", \"2016\", \"2017\", \"2018\"], \"y\": [52, 27, 36, 105, 68, 202, 206]}, {\"mode\": \"markers+lines\", \"name\": \"dados_altm\\u00e9tricos\", \"type\": \"scatter\", \"x\": [\"2012\", \"2013\", \"2014\", \"2015\", \"2016\", \"2017\", \"2018\"], \"y\": [0, 0, 40, 0, 0, 0, 0]}, {\"mode\": \"markers+lines\", \"name\": \"dados_bibliogr\\u00e1ficos\", \"type\": \"scatter\", \"x\": [\"2012\", \"2013\", \"2014\", \"2015\", \"2016\", \"2017\", \"2018\"], \"y\": [35, 32, 0, 0, 0, 0, 61]}, {\"mode\": \"markers+lines\", \"name\": \"dados_cient\\u00edficos\", \"type\": \"scatter\", \"x\": [\"2012\", \"2013\", \"2014\", \"2015\", \"2016\", \"2017\", \"2018\"], \"y\": [0, 0, 31, 0, 0, 97, 52]}, {\"mode\": \"markers+lines\", \"name\": \"dados_coletados\", \"type\": \"scatter\", \"x\": [\"2012\", \"2013\", \"2014\", \"2015\", \"2016\", \"2017\", \"2018\"], \"y\": [68, 85, 103, 77, 98, 158, 129]}, {\"mode\": \"markers+lines\", \"name\": \"dados_governamentais\", \"type\": \"scatter\", \"x\": [\"2012\", \"2013\", \"2014\", \"2015\", \"2016\", \"2017\", \"2018\"], \"y\": [0, 0, 0, 39, 34, 34, 0]}, {\"mode\": \"markers+lines\", \"name\": \"dados_imagens\", \"type\": \"scatter\", \"x\": [\"2012\", \"2013\", \"2014\", \"2015\", \"2016\", \"2017\", \"2018\"], \"y\": [0, 25, 0, 0, 0, 0, 0]}, {\"mode\": \"markers+lines\", \"name\": \"dados_interligados\", \"type\": \"scatter\", \"x\": [\"2012\", \"2013\", \"2014\", \"2015\", \"2016\", \"2017\", \"2018\"], \"y\": [0, 0, 29, 0, 0, 0, 0]}, {\"mode\": \"markers+lines\", \"name\": \"dados_obtidos\", \"type\": \"scatter\", \"x\": [\"2012\", \"2013\", \"2014\", \"2015\", \"2016\", \"2017\", \"2018\"], \"y\": [26, 33, 36, 33, 65, 48, 53]}, {\"mode\": \"markers+lines\", \"name\": \"dados_pesquisa\", \"type\": \"scatter\", \"x\": [\"2012\", \"2013\", \"2014\", \"2015\", \"2016\", \"2017\", \"2018\"], \"y\": [137, 225, 286, 221, 247, 438, 508]}, {\"mode\": \"markers+lines\", \"name\": \"dados_quantitativos\", \"type\": \"scatter\", \"x\": [\"2012\", \"2013\", \"2014\", \"2015\", \"2016\", \"2017\", \"2018\"], \"y\": [0, 23, 0, 34, 0, 0, 0]}, {\"mode\": \"markers+lines\", \"name\": \"dados_web\", \"type\": \"scatter\", \"x\": [\"2012\", \"2013\", \"2014\", \"2015\", \"2016\", \"2017\", \"2018\"], \"y\": [0, 27, 0, 0, 0, 66, 39]}, {\"mode\": \"markers+lines\", \"name\": \"fonte_dados\", \"type\": \"scatter\", \"x\": [\"2012\", \"2013\", \"2014\", \"2015\", \"2016\", \"2017\", \"2018\"], \"y\": [139, 139, 241, 167, 148, 285, 290]}, {\"mode\": \"markers+lines\", \"name\": \"fonte_dados_pesquisa\", \"type\": \"scatter\", \"x\": [\"2012\", \"2013\", \"2014\", \"2015\", \"2016\", \"2017\", \"2018\"], \"y\": [87, 125, 0, 145, 91, 248, 242]}, {\"mode\": \"markers+lines\", \"name\": \"gest\\u00e3o_dados\", \"type\": \"scatter\", \"x\": [\"2012\", \"2013\", \"2014\", \"2015\", \"2016\", \"2017\", \"2018\"], \"y\": [0, 0, 0, 0, 0, 74, 49]}, {\"mode\": \"markers+lines\", \"name\": \"instrumento_coleta_dados\", \"type\": \"scatter\", \"x\": [\"2012\", \"2013\", \"2014\", \"2015\", \"2016\", \"2017\", \"2018\"], \"y\": [45, 46, 16, 30, 39, 38, 44]}, {\"mode\": \"markers+lines\", \"name\": \"minera\\u00e7\\u00e3o_dados\", \"type\": \"scatter\", \"x\": [\"2012\", \"2013\", \"2014\", \"2015\", \"2016\", \"2017\", \"2018\"], \"y\": [0, 0, 0, 33, 34, 0, 0]}, {\"mode\": \"markers+lines\", \"name\": \"modelagem_dados\", \"type\": \"scatter\", \"x\": [\"2012\", \"2013\", \"2014\", \"2015\", \"2016\", \"2017\", \"2018\"], \"y\": [26, 0, 0, 0, 0, 0, 0]}, {\"mode\": \"markers+lines\", \"name\": \"dado_informa\\u00e7\\u00e3o\", \"type\": \"scatter\", \"x\": [\"2012\", \"2013\", \"2014\", \"2015\", \"2016\", \"2017\", \"2018\"], \"y\": [81, 49, 97, 81, 89, 136, 112]}],\n",
       "                        {\"template\": {\"data\": {\"bar\": [{\"error_x\": {\"color\": \"#2a3f5f\"}, \"error_y\": {\"color\": \"#2a3f5f\"}, \"marker\": {\"line\": {\"color\": \"#E5ECF6\", \"width\": 0.5}}, \"type\": \"bar\"}], \"barpolar\": [{\"marker\": {\"line\": {\"color\": \"#E5ECF6\", \"width\": 0.5}}, \"type\": \"barpolar\"}], \"carpet\": [{\"aaxis\": {\"endlinecolor\": \"#2a3f5f\", \"gridcolor\": \"white\", \"linecolor\": \"white\", \"minorgridcolor\": \"white\", \"startlinecolor\": \"#2a3f5f\"}, \"baxis\": {\"endlinecolor\": \"#2a3f5f\", \"gridcolor\": \"white\", \"linecolor\": \"white\", \"minorgridcolor\": \"white\", \"startlinecolor\": \"#2a3f5f\"}, \"type\": \"carpet\"}], \"choropleth\": [{\"colorbar\": {\"outlinewidth\": 0, \"ticks\": \"\"}, \"type\": \"choropleth\"}], \"contour\": [{\"colorbar\": {\"outlinewidth\": 0, \"ticks\": \"\"}, \"colorscale\": [[0.0, \"#0d0887\"], [0.1111111111111111, \"#46039f\"], [0.2222222222222222, \"#7201a8\"], [0.3333333333333333, \"#9c179e\"], [0.4444444444444444, \"#bd3786\"], [0.5555555555555556, \"#d8576b\"], [0.6666666666666666, \"#ed7953\"], [0.7777777777777778, \"#fb9f3a\"], [0.8888888888888888, \"#fdca26\"], [1.0, \"#f0f921\"]], \"type\": \"contour\"}], \"contourcarpet\": [{\"colorbar\": {\"outlinewidth\": 0, \"ticks\": \"\"}, \"type\": \"contourcarpet\"}], \"heatmap\": [{\"colorbar\": {\"outlinewidth\": 0, \"ticks\": \"\"}, \"colorscale\": [[0.0, \"#0d0887\"], [0.1111111111111111, \"#46039f\"], [0.2222222222222222, \"#7201a8\"], [0.3333333333333333, \"#9c179e\"], [0.4444444444444444, \"#bd3786\"], [0.5555555555555556, \"#d8576b\"], [0.6666666666666666, \"#ed7953\"], [0.7777777777777778, \"#fb9f3a\"], [0.8888888888888888, \"#fdca26\"], [1.0, \"#f0f921\"]], \"type\": \"heatmap\"}], \"heatmapgl\": [{\"colorbar\": {\"outlinewidth\": 0, \"ticks\": \"\"}, \"colorscale\": [[0.0, \"#0d0887\"], [0.1111111111111111, \"#46039f\"], [0.2222222222222222, \"#7201a8\"], [0.3333333333333333, \"#9c179e\"], [0.4444444444444444, \"#bd3786\"], [0.5555555555555556, \"#d8576b\"], [0.6666666666666666, \"#ed7953\"], [0.7777777777777778, \"#fb9f3a\"], [0.8888888888888888, \"#fdca26\"], [1.0, \"#f0f921\"]], \"type\": \"heatmapgl\"}], \"histogram\": [{\"marker\": {\"colorbar\": {\"outlinewidth\": 0, \"ticks\": \"\"}}, \"type\": \"histogram\"}], \"histogram2d\": [{\"colorbar\": {\"outlinewidth\": 0, \"ticks\": \"\"}, \"colorscale\": [[0.0, \"#0d0887\"], [0.1111111111111111, \"#46039f\"], [0.2222222222222222, \"#7201a8\"], [0.3333333333333333, \"#9c179e\"], [0.4444444444444444, \"#bd3786\"], [0.5555555555555556, \"#d8576b\"], [0.6666666666666666, \"#ed7953\"], [0.7777777777777778, \"#fb9f3a\"], [0.8888888888888888, \"#fdca26\"], [1.0, \"#f0f921\"]], \"type\": \"histogram2d\"}], \"histogram2dcontour\": [{\"colorbar\": {\"outlinewidth\": 0, \"ticks\": \"\"}, \"colorscale\": [[0.0, \"#0d0887\"], [0.1111111111111111, \"#46039f\"], [0.2222222222222222, \"#7201a8\"], [0.3333333333333333, \"#9c179e\"], [0.4444444444444444, \"#bd3786\"], [0.5555555555555556, \"#d8576b\"], [0.6666666666666666, \"#ed7953\"], [0.7777777777777778, \"#fb9f3a\"], [0.8888888888888888, \"#fdca26\"], [1.0, \"#f0f921\"]], \"type\": \"histogram2dcontour\"}], \"mesh3d\": [{\"colorbar\": {\"outlinewidth\": 0, \"ticks\": \"\"}, \"type\": \"mesh3d\"}], \"parcoords\": [{\"line\": {\"colorbar\": {\"outlinewidth\": 0, \"ticks\": \"\"}}, \"type\": \"parcoords\"}], \"pie\": [{\"automargin\": true, \"type\": \"pie\"}], \"scatter\": [{\"marker\": {\"colorbar\": {\"outlinewidth\": 0, \"ticks\": \"\"}}, \"type\": \"scatter\"}], \"scatter3d\": [{\"line\": {\"colorbar\": {\"outlinewidth\": 0, \"ticks\": \"\"}}, \"marker\": {\"colorbar\": {\"outlinewidth\": 0, \"ticks\": \"\"}}, \"type\": \"scatter3d\"}], \"scattercarpet\": [{\"marker\": {\"colorbar\": {\"outlinewidth\": 0, \"ticks\": \"\"}}, \"type\": \"scattercarpet\"}], \"scattergeo\": [{\"marker\": {\"colorbar\": {\"outlinewidth\": 0, \"ticks\": \"\"}}, \"type\": \"scattergeo\"}], \"scattergl\": [{\"marker\": {\"colorbar\": {\"outlinewidth\": 0, \"ticks\": \"\"}}, \"type\": \"scattergl\"}], \"scattermapbox\": [{\"marker\": {\"colorbar\": {\"outlinewidth\": 0, \"ticks\": \"\"}}, \"type\": \"scattermapbox\"}], \"scatterpolar\": [{\"marker\": {\"colorbar\": {\"outlinewidth\": 0, \"ticks\": \"\"}}, \"type\": \"scatterpolar\"}], \"scatterpolargl\": [{\"marker\": {\"colorbar\": {\"outlinewidth\": 0, \"ticks\": \"\"}}, \"type\": \"scatterpolargl\"}], \"scatterternary\": [{\"marker\": {\"colorbar\": {\"outlinewidth\": 0, \"ticks\": \"\"}}, \"type\": \"scatterternary\"}], \"surface\": [{\"colorbar\": {\"outlinewidth\": 0, \"ticks\": \"\"}, \"colorscale\": [[0.0, \"#0d0887\"], [0.1111111111111111, \"#46039f\"], [0.2222222222222222, \"#7201a8\"], [0.3333333333333333, \"#9c179e\"], [0.4444444444444444, \"#bd3786\"], [0.5555555555555556, \"#d8576b\"], [0.6666666666666666, \"#ed7953\"], [0.7777777777777778, \"#fb9f3a\"], [0.8888888888888888, \"#fdca26\"], [1.0, \"#f0f921\"]], \"type\": \"surface\"}], \"table\": [{\"cells\": {\"fill\": {\"color\": \"#EBF0F8\"}, \"line\": {\"color\": \"white\"}}, \"header\": {\"fill\": {\"color\": \"#C8D4E3\"}, \"line\": {\"color\": \"white\"}}, \"type\": \"table\"}]}, \"layout\": {\"annotationdefaults\": {\"arrowcolor\": \"#2a3f5f\", \"arrowhead\": 0, \"arrowwidth\": 1}, \"coloraxis\": {\"colorbar\": {\"outlinewidth\": 0, \"ticks\": \"\"}}, \"colorscale\": {\"diverging\": [[0, \"#8e0152\"], [0.1, \"#c51b7d\"], [0.2, \"#de77ae\"], [0.3, \"#f1b6da\"], [0.4, \"#fde0ef\"], [0.5, \"#f7f7f7\"], [0.6, \"#e6f5d0\"], [0.7, \"#b8e186\"], [0.8, \"#7fbc41\"], [0.9, \"#4d9221\"], [1, \"#276419\"]], \"sequential\": [[0.0, \"#0d0887\"], [0.1111111111111111, \"#46039f\"], [0.2222222222222222, \"#7201a8\"], [0.3333333333333333, \"#9c179e\"], [0.4444444444444444, \"#bd3786\"], [0.5555555555555556, \"#d8576b\"], [0.6666666666666666, \"#ed7953\"], [0.7777777777777778, \"#fb9f3a\"], [0.8888888888888888, \"#fdca26\"], [1.0, \"#f0f921\"]], \"sequentialminus\": [[0.0, \"#0d0887\"], [0.1111111111111111, \"#46039f\"], [0.2222222222222222, \"#7201a8\"], [0.3333333333333333, \"#9c179e\"], [0.4444444444444444, \"#bd3786\"], [0.5555555555555556, \"#d8576b\"], [0.6666666666666666, \"#ed7953\"], [0.7777777777777778, \"#fb9f3a\"], [0.8888888888888888, \"#fdca26\"], [1.0, \"#f0f921\"]]}, \"colorway\": [\"#636efa\", \"#EF553B\", \"#00cc96\", \"#ab63fa\", \"#FFA15A\", \"#19d3f3\", \"#FF6692\", \"#B6E880\", \"#FF97FF\", \"#FECB52\"], \"font\": {\"color\": \"#2a3f5f\"}, \"geo\": {\"bgcolor\": \"white\", \"lakecolor\": \"white\", \"landcolor\": \"#E5ECF6\", \"showlakes\": true, \"showland\": true, \"subunitcolor\": \"white\"}, \"hoverlabel\": {\"align\": \"left\"}, \"hovermode\": \"closest\", \"mapbox\": {\"style\": \"light\"}, \"paper_bgcolor\": \"white\", \"plot_bgcolor\": \"#E5ECF6\", \"polar\": {\"angularaxis\": {\"gridcolor\": \"white\", \"linecolor\": \"white\", \"ticks\": \"\"}, \"bgcolor\": \"#E5ECF6\", \"radialaxis\": {\"gridcolor\": \"white\", \"linecolor\": \"white\", \"ticks\": \"\"}}, \"scene\": {\"xaxis\": {\"backgroundcolor\": \"#E5ECF6\", \"gridcolor\": \"white\", \"gridwidth\": 2, \"linecolor\": \"white\", \"showbackground\": true, \"ticks\": \"\", \"zerolinecolor\": \"white\"}, \"yaxis\": {\"backgroundcolor\": \"#E5ECF6\", \"gridcolor\": \"white\", \"gridwidth\": 2, \"linecolor\": \"white\", \"showbackground\": true, \"ticks\": \"\", \"zerolinecolor\": \"white\"}, \"zaxis\": {\"backgroundcolor\": \"#E5ECF6\", \"gridcolor\": \"white\", \"gridwidth\": 2, \"linecolor\": \"white\", \"showbackground\": true, \"ticks\": \"\", \"zerolinecolor\": \"white\"}}, \"shapedefaults\": {\"line\": {\"color\": \"#2a3f5f\"}}, \"ternary\": {\"aaxis\": {\"gridcolor\": \"white\", \"linecolor\": \"white\", \"ticks\": \"\"}, \"baxis\": {\"gridcolor\": \"white\", \"linecolor\": \"white\", \"ticks\": \"\"}, \"bgcolor\": \"#E5ECF6\", \"caxis\": {\"gridcolor\": \"white\", \"linecolor\": \"white\", \"ticks\": \"\"}}, \"title\": {\"x\": 0.05}, \"xaxis\": {\"automargin\": true, \"gridcolor\": \"white\", \"linecolor\": \"white\", \"ticks\": \"\", \"title\": {\"standoff\": 15}, \"zerolinecolor\": \"white\", \"zerolinewidth\": 2}, \"yaxis\": {\"automargin\": true, \"gridcolor\": \"white\", \"linecolor\": \"white\", \"ticks\": \"\", \"title\": {\"standoff\": 15}, \"zerolinecolor\": \"white\", \"zerolinewidth\": 2}}}, \"title\": {\"text\": \"Frequ\\u00eancia dos termos de composi\\u00e7\\u00e3o a partir do termo \\u201cDado\\u201d\", \"x\": 0, \"xref\": \"paper\"}, \"xaxis\": {\"title\": {\"font\": {\"color\": \"#7f7f7f\", \"family\": \"Courier New, monospace\", \"size\": 18}, \"text\": \"Anos\"}}, \"yaxis\": {\"title\": {\"font\": {\"color\": \"#7f7f7f\", \"family\": \"Courier New, monospace\", \"size\": 18}, \"text\": \"Frequ\\u00eancia\"}}},\n",
       "                        {\"responsive\": true}\n",
       "                    ).then(function(){\n",
       "                            \n",
       "var gd = document.getElementById('b7941f7c-c9a2-4c06-8c92-864218aed44a');\n",
       "var x = new MutationObserver(function (mutations, observer) {{\n",
       "        var display = window.getComputedStyle(gd).display;\n",
       "        if (!display || display === 'none') {{\n",
       "            console.log([gd, 'removed!']);\n",
       "            Plotly.purge(gd);\n",
       "            observer.disconnect();\n",
       "        }}\n",
       "}});\n",
       "\n",
       "// Listen for the removal of the full notebook cells\n",
       "var notebookContainer = gd.closest('#notebook-container');\n",
       "if (notebookContainer) {{\n",
       "    x.observe(notebookContainer, {childList: true});\n",
       "}}\n",
       "\n",
       "// Listen for the clearing of the current output cell\n",
       "var outputEl = gd.closest('.output');\n",
       "if (outputEl) {{\n",
       "    x.observe(outputEl, {childList: true});\n",
       "}}\n",
       "\n",
       "                        })\n",
       "                };\n",
       "                });\n",
       "            </script>\n",
       "        </div>"
      ]
     },
     "metadata": {},
     "output_type": "display_data"
    }
   ],
   "source": [
    "trace1 = go.Scatter(x = ['2012', '2013', '2014', '2015', '2016', '2017', '2018'],\n",
    "                    y = [2824, 2896, 3682, 3019, 4028, 5606, 5824 ],\n",
    "                    mode = 'markers+lines',\n",
    "                    name = 'dado')\n",
    "\n",
    "trace2 = go.Scatter(x = ['2012', '2013', '2014', '2015', '2016', '2017', '2018'],\n",
    "                    y = [20,0,14,0,0,13,0],\n",
    "                    mode = 'markers+lines',\n",
    "                    name = 'dados_informação_conhecimento')\n",
    "\n",
    "trace3 = go.Scatter(x = ['2012', '2013', '2014', '2015', '2016', '2017', '2018'],\n",
    "                    y = [563,530,525,421,627,654,766],\n",
    "                    mode = 'markers+lines',\n",
    "                    name = 'ciencia_informação')\n",
    "# Dado\n",
    "\n",
    "trace4 = go.Scatter(x = ['2012', '2013', '2014', '2015', '2016', '2017', '2018'],\n",
    "                    y = [162,153,130,139,107,66,133],\n",
    "                    mode = 'markers+lines',\n",
    "                    name = 'banco_dados')\n",
    "\n",
    "trace5 = go.Scatter(x = ['2012', '2013', '2014', '2015', '2016', '2017', '2018'],\n",
    "                    y = [404,401,458,427,528,558,569],\n",
    "                    mode = 'markers+lines',\n",
    "                    name = 'base_dados')\n",
    "\n",
    "trace6 = go.Scatter(x = ['2012', '2013', '2014', '2015', '2016', '2017', '2018'],\n",
    "                    y = [90,39,0,0,12,0,13 ],\n",
    "                    mode = 'markers+lines',\n",
    "                    name = 'ciclo_vida_dados')\n",
    "\n",
    "trace7 = go.Scatter(x = ['2012', '2013', '2014', '2015', '2016', '2017', '2018'],\n",
    "                    y = [201,209,264,205,262,302,301 ],\n",
    "                    mode = 'markers+lines',\n",
    "                    name = 'coleta_dados')\n",
    "\n",
    "trace8 = go.Scatter(x = ['2012', '2013', '2014', '2015', '2016', '2017', '2018'],\n",
    "                    y = [43,0,82,68,77,193,162 ],\n",
    "                    mode = 'markers+lines',\n",
    "                    name = 'conjuntos_dados')\n",
    "\n",
    "trace9 = go.Scatter(x = ['2012', '2013', '2014', '2015', '2016', '2017', '2018'],\n",
    "                    y = [52,27,36,105,68,202,206 ],\n",
    "                    mode = 'markers+lines',\n",
    "                    name = 'dados_abertos')\n",
    "\n",
    "trace10 = go.Scatter(x = ['2012', '2013', '2014', '2015', '2016', '2017', '2018'],\n",
    "                    y = [0,0,40,0,0,0,0 ],\n",
    "                    mode = 'markers+lines',\n",
    "                    name = 'dados_altmétricos')\n",
    "\n",
    "trace11 = go.Scatter(x = ['2012', '2013', '2014', '2015', '2016', '2017', '2018'],\n",
    "                    y = [35,32,0,0,0,0,61 ],\n",
    "                    mode = 'markers+lines',\n",
    "                    name = 'dados_bibliográficos')\n",
    "\n",
    "trace12 = go.Scatter(x = ['2012', '2013', '2014', '2015', '2016', '2017', '2018'],\n",
    "                    y = [0,0,31,0,0,97,52 ],\n",
    "                    mode = 'markers+lines',\n",
    "                    name = 'dados_científicos')\n",
    "\n",
    "trace13 = go.Scatter(x = ['2012', '2013', '2014', '2015', '2016', '2017', '2018'],\n",
    "                    y = [68,85,103,77,98,158,129 ],\n",
    "                    mode = 'markers+lines',\n",
    "                    name = 'dados_coletados')\n",
    "\n",
    "trace14 = go.Scatter(x = ['2012', '2013', '2014', '2015', '2016', '2017', '2018'],\n",
    "                    y = [0,0,0,39,34,34,0],\n",
    "                    mode = 'markers+lines',\n",
    "                    name = 'dados_governamentais')\n",
    "\n",
    "trace15 = go.Scatter(x = ['2012', '2013', '2014', '2015', '2016', '2017', '2018'],\n",
    "                    y = [0,25,0,0,0,0,0 ],\n",
    "                    mode = 'markers+lines',\n",
    "                    name = 'dados_imagens')\n",
    "\n",
    "trace16 = go.Scatter(x = ['2012', '2013', '2014', '2015', '2016', '2017', '2018'],\n",
    "                    y = [0,0,29,0,0,0,0 ],\n",
    "                    mode = 'markers+lines',\n",
    "                    name = 'dados_interligados')\n",
    "\n",
    "trace17 = go.Scatter(x = ['2012', '2013', '2014', '2015', '2016', '2017', '2018'],\n",
    "                    y = [26,33,36,33,65,48,53 ],\n",
    "                    mode = 'markers+lines',\n",
    "                    name = 'dados_obtidos')\n",
    "\n",
    "trace18 = go.Scatter(x = ['2012', '2013', '2014', '2015', '2016', '2017', '2018'],\n",
    "                    y = [137,225,286,221,247,438,508],\n",
    "                    mode = 'markers+lines',\n",
    "                    name = 'dados_pesquisa')\n",
    "\n",
    "trace19 = go.Scatter(x = ['2012', '2013', '2014', '2015', '2016', '2017', '2018'],\n",
    "                    y = [0,23,0,34,0,0,0 ],\n",
    "                    mode = 'markers+lines',\n",
    "                    name = 'dados_quantitativos')\n",
    "\n",
    "trace20 = go.Scatter(x = ['2012', '2013', '2014', '2015', '2016', '2017', '2018'],\n",
    "                    y = [0,27,0,0,0,66,39 ],\n",
    "                    mode = 'markers+lines',\n",
    "                    name = 'dados_web')\n",
    "trace21 = go.Scatter(x = ['2012', '2013', '2014', '2015', '2016', '2017', '2018'],\n",
    "                    y = [139,139,241,167,148,285,290 ],\n",
    "                    mode = 'markers+lines',\n",
    "                    name = 'fonte_dados')\n",
    "\n",
    "trace22 = go.Scatter(x = ['2012', '2013', '2014', '2015', '2016', '2017', '2018'],\n",
    "                    y = [87,125,0,145,91,248,242],\n",
    "                    mode = 'markers+lines',\n",
    "                    name = 'fonte_dados_pesquisa')\n",
    "\n",
    "trace23 = go.Scatter(x = ['2012', '2013', '2014', '2015', '2016', '2017', '2018'],\n",
    "                    y = [0,0,0,0,0,74,49],\n",
    "                    mode = 'markers+lines',\n",
    "                    name = 'gestão_dados')\n",
    "\n",
    "trace24 = go.Scatter(x = ['2012', '2013', '2014', '2015', '2016', '2017', '2018'],\n",
    "                    y = [45,46,16,30,39,38,44 ],\n",
    "                    mode = 'markers+lines',\n",
    "                    name = 'instrumento_coleta_dados')\n",
    "\n",
    "trace25 = go.Scatter(x = ['2012', '2013', '2014', '2015', '2016', '2017', '2018'],\n",
    "                    y = [0,0,0,33,34,0,0],\n",
    "                    mode = 'markers+lines',\n",
    "                    name = 'mineração_dados')\n",
    "\n",
    "trace26 = go.Scatter(x = ['2012', '2013', '2014', '2015', '2016', '2017', '2018'],\n",
    "                    y = [26,0,0,0,0,0,0 ],\n",
    "                    mode = 'markers+lines',\n",
    "                    name = 'modelagem_dados')\n",
    "\n",
    "trace27 = go.Scatter(x = ['2012', '2013', '2014', '2015', '2016', '2017', '2018'],\n",
    "                    y = [81,49,97,81,89,136,112 ],\n",
    "                    mode = 'markers+lines',\n",
    "                    name = 'dado_informação')\n",
    "\n",
    "data = [trace1, trace2, trace3, trace4, trace5, trace6, trace7, trace8, trace9, trace10, \n",
    "        trace11, trace12, trace13, trace14, trace15, trace16, trace17, trace18, trace19, trace20, \n",
    "        trace21, trace22, trace23, trace24, trace25, trace26, trace27,  ]\n",
    "\n",
    "layout = go.Layout(\n",
    "    title=go.layout.Title(\n",
    "        text='Frequência dos termos de composição a partir do termo “Dado”',\n",
    "        xref='paper',\n",
    "        x=0\n",
    "    ),\n",
    "    xaxis=go.layout.XAxis(\n",
    "        title=go.layout.xaxis.Title(\n",
    "            text='Anos',\n",
    "            font=dict(\n",
    "                family='Courier New, monospace',\n",
    "                size=18,\n",
    "                color='#7f7f7f'\n",
    "            )\n",
    "        )\n",
    "    ),\n",
    "    yaxis=go.layout.YAxis(\n",
    "        title=go.layout.yaxis.Title(\n",
    "            text='Frequência',\n",
    "            font=dict(\n",
    "                family='Courier New, monospace',\n",
    "                size=18,\n",
    "                color='#7f7f7f'\n",
    "            )\n",
    "        )\n",
    "    )\n",
    ")\n",
    "\n",
    "fig = go.Figure(data=data, layout=layout)\n",
    "py.iplot(fig, filename='styling-names')\n"
   ]
  }
 ],
 "metadata": {
  "kernelspec": {
   "display_name": "Python 3",
   "language": "python",
   "name": "python3"
  },
  "language_info": {
   "codemirror_mode": {
    "name": "ipython",
    "version": 3
   },
   "file_extension": ".py",
   "mimetype": "text/x-python",
   "name": "python",
   "nbconvert_exporter": "python",
   "pygments_lexer": "ipython3",
   "version": "3.7.3"
  }
 },
 "nbformat": 4,
 "nbformat_minor": 2
}
