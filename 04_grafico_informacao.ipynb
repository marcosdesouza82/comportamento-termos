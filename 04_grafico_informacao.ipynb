{
 "cells": [
  {
   "cell_type": "markdown",
   "metadata": {},
   "source": [
    "# Gráfico de frequência de termos\n",
    "\n",
    "O gráfico contém termos de composição a partir do termo “Informação” extraídos do corpus de dados constituído por artigos completos e resumos expandidos publicados nos anais do Encontro Nacional de Pesquisa em Ciência da Informação – ENANCIB entre os anos de 2012 a 2018. "
   ]
  },
  {
   "cell_type": "code",
   "execution_count": 1,
   "metadata": {},
   "outputs": [
    {
     "data": {
      "text/html": [
       "        <script type=\"text/javascript\">\n",
       "        window.PlotlyConfig = {MathJaxConfig: 'local'};\n",
       "        if (window.MathJax) {MathJax.Hub.Config({SVG: {font: \"STIX-Web\"}});}\n",
       "        if (typeof require !== 'undefined') {\n",
       "        require.undef(\"plotly\");\n",
       "        requirejs.config({\n",
       "            paths: {\n",
       "                'plotly': ['https://cdn.plot.ly/plotly-latest.min']\n",
       "            }\n",
       "        });\n",
       "        require(['plotly'], function(Plotly) {\n",
       "            window._Plotly = Plotly;\n",
       "        });\n",
       "        }\n",
       "        </script>\n",
       "        "
      ]
     },
     "metadata": {},
     "output_type": "display_data"
    }
   ],
   "source": [
    "import plotly \n",
    "import plotly.graph_objs as go\n",
    "import plotly.offline as py\n",
    "py.init_notebook_mode(connected=True)\n",
    "from plotly.offline import download_plotlyjs, init_notebook_mode, plot, iplot"
   ]
  },
  {
   "cell_type": "code",
   "execution_count": 3,
   "metadata": {
    "scrolled": true
   },
   "outputs": [
    {
     "data": {
      "application/vnd.plotly.v1+json": {
       "config": {
        "linkText": "Export to plot.ly",
        "plotlyServerURL": "https://plot.ly",
        "showLink": false
       },
       "data": [
        {
         "mode": "markers+lines",
         "name": "dados_informação_conhecimento",
         "type": "scatter",
         "x": [
          "2012",
          "2013",
          "2014",
          "2015",
          "2016",
          "2017",
          "2018"
         ],
         "y": [
          20,
          0,
          14,
          0,
          0,
          13,
          0
         ]
        },
        {
         "mode": "markers+lines",
         "name": "informação_conhecimento",
         "type": "scatter",
         "x": [
          "2012",
          "2013",
          "2014",
          "2015",
          "2016",
          "2017",
          "2018"
         ],
         "y": [
          474,
          418,
          376,
          459,
          502,
          581,
          571
         ]
        },
        {
         "mode": "markers+lines",
         "name": "informação",
         "type": "scatter",
         "x": [
          "2012",
          "2013",
          "2014",
          "2015",
          "2016",
          "2017",
          "2018"
         ],
         "y": [
          19056,
          17936,
          20495,
          17934,
          22559,
          23111,
          27146
         ]
        },
        {
         "mode": "markers+lines",
         "name": "apropriação_informação",
         "type": "scatter",
         "x": [
          "2012",
          "2013",
          "2014",
          "2015",
          "2016",
          "2017",
          "2018"
         ],
         "y": [
          102,
          77,
          108,
          65,
          58,
          211,
          175
         ]
        },
        {
         "mode": "markers+lines",
         "name": "arquitetura_informação",
         "type": "scatter",
         "x": [
          "2012",
          "2013",
          "2014",
          "2015",
          "2016",
          "2017",
          "2018"
         ],
         "y": [
          161,
          167,
          237,
          108,
          324,
          165,
          283
         ]
        },
        {
         "mode": "markers+lines",
         "name": "artefatos_informação",
         "type": "scatter",
         "x": [
          "2012",
          "2013",
          "2014",
          "2015",
          "2016",
          "2017",
          "2018"
         ],
         "y": [
          0,
          25,
          0,
          0,
          0,
          0,
          0
         ]
        },
        {
         "mode": "markers+lines",
         "name": "auditoria_informação",
         "type": "scatter",
         "x": [
          "2012",
          "2013",
          "2014",
          "2015",
          "2016",
          "2017",
          "2018"
         ],
         "y": [
          0,
          0,
          0,
          53,
          0,
          0,
          0
         ]
        },
        {
         "mode": "markers+lines",
         "name": "busca_informação",
         "type": "scatter",
         "x": [
          "2012",
          "2013",
          "2014",
          "2015",
          "2016",
          "2017",
          "2018"
         ],
         "y": [
          160,
          131,
          162,
          192,
          119,
          167,
          144
         ]
        },
        {
         "mode": "markers+lines",
         "name": "circulação_apropriação_informação",
         "type": "scatter",
         "x": [
          "2012",
          "2013",
          "2014",
          "2015",
          "2016",
          "2017",
          "2018"
         ],
         "y": [
          40,
          44,
          11,
          31,
          0,
          55,
          65
         ]
        },
        {
         "mode": "markers+lines",
         "name": "circulação_informação",
         "type": "scatter",
         "x": [
          "2012",
          "2013",
          "2014",
          "2015",
          "2016",
          "2017",
          "2018"
         ],
         "y": [
          32,
          32,
          33,
          0,
          0,
          0,
          0
         ]
        },
        {
         "mode": "markers+lines",
         "name": "compartilhamento_informação",
         "type": "scatter",
         "x": [
          "2012",
          "2013",
          "2014",
          "2015",
          "2016",
          "2017",
          "2018"
         ],
         "y": [
          65,
          70,
          90,
          81,
          97,
          176,
          118
         ]
        },
        {
         "mode": "markers+lines",
         "name": "competência_informação",
         "type": "scatter",
         "x": [
          "2012",
          "2013",
          "2014",
          "2015",
          "2016",
          "2017",
          "2018"
         ],
         "y": [
          106,
          132,
          126,
          239,
          367,
          449,
          703
         ]
        },
        {
         "mode": "markers+lines",
         "name": "comportamento_informacional",
         "type": "scatter",
         "x": [
          "2012",
          "2013",
          "2014",
          "2015",
          "2016",
          "2017",
          "2018"
         ],
         "y": [
          199,
          109,
          120,
          232,
          134,
          125,
          137
         ]
        },
        {
         "mode": "markers+lines",
         "name": "comunicação_informação",
         "type": "scatter",
         "x": [
          "2012",
          "2013",
          "2014",
          "2015",
          "2016",
          "2017",
          "2018"
         ],
         "y": [
          126,
          153,
          103,
          143,
          174,
          195,
          187
         ]
        },
        {
         "mode": "markers+lines",
         "name": "conceito_informação",
         "type": "scatter",
         "x": [
          "2012",
          "2013",
          "2014",
          "2015",
          "2016",
          "2017",
          "2018"
         ],
         "y": [
          90,
          79,
          103,
          63,
          147,
          121,
          143
         ]
        },
        {
         "mode": "markers+lines",
         "name": "cultura_informação",
         "type": "scatter",
         "x": [
          "2012",
          "2013",
          "2014",
          "2015",
          "2016",
          "2017",
          "2018"
         ],
         "y": [
          0,
          0,
          0,
          0,
          32,
          0,
          0
         ]
        },
        {
         "mode": "markers+lines",
         "name": "difusão_informação",
         "type": "scatter",
         "x": [
          "2012",
          "2013",
          "2014",
          "2015",
          "2016",
          "2017",
          "2018"
         ],
         "y": [
          0,
          31,
          0,
          0,
          0,
          0,
          0
         ]
        },
        {
         "mode": "markers+lines",
         "name": "direito_informação",
         "type": "scatter",
         "x": [
          "2012",
          "2013",
          "2014",
          "2015",
          "2016",
          "2017",
          "2018"
         ],
         "y": [
          144,
          101,
          92,
          100,
          101,
          53,
          80
         ]
        },
        {
         "mode": "markers+lines",
         "name": "disponibilização_informação",
         "type": "scatter",
         "x": [
          "2012",
          "2013",
          "2014",
          "2015",
          "2016",
          "2017",
          "2018"
         ],
         "y": [
          0,
          30,
          0,
          32,
          0,
          39,
          0
         ]
        },
        {
         "mode": "markers+lines",
         "name": "disseminação_informação",
         "type": "scatter",
         "x": [
          "2012",
          "2013",
          "2014",
          "2015",
          "2016",
          "2017",
          "2018"
         ],
         "y": [
          117,
          133,
          117,
          111,
          118,
          125,
          141
         ]
        },
        {
         "mode": "markers+lines",
         "name": "divulgação_informação",
         "type": "scatter",
         "x": [
          "2012",
          "2013",
          "2014",
          "2015",
          "2016",
          "2017",
          "2018"
         ],
         "y": [
          27,
          0,
          41,
          34,
          41,
          0,
          0
         ]
        },
        {
         "mode": "markers+lines",
         "name": "economia_informação",
         "type": "scatter",
         "x": [
          "2012",
          "2013",
          "2014",
          "2015",
          "2016",
          "2017",
          "2018"
         ],
         "y": [
          0,
          41,
          0,
          41,
          47,
          59,
          58
         ]
        },
        {
         "mode": "markers+lines",
         "name": "epistemologia_informação",
         "type": "scatter",
         "x": [
          "2012",
          "2013",
          "2014",
          "2015",
          "2016",
          "2017",
          "2018"
         ],
         "y": [
          33,
          64,
          27,
          0,
          0,
          32,
          55
         ]
        },
        {
         "mode": "markers+lines",
         "name": "filosofia_informação",
         "type": "scatter",
         "x": [
          "2012",
          "2013",
          "2014",
          "2015",
          "2016",
          "2017",
          "2018"
         ],
         "y": [
          0,
          23,
          64,
          0,
          0,
          38,
          50
         ]
        },
        {
         "mode": "markers+lines",
         "name": "fluxo_informação",
         "type": "scatter",
         "x": [
          "2012",
          "2013",
          "2014",
          "2015",
          "2016",
          "2017",
          "2018"
         ],
         "y": [
          182,
          133,
          209,
          129,
          135,
          202,
          198
         ]
        },
        {
         "mode": "markers+lines",
         "name": "fonte_informação",
         "type": "scatter",
         "x": [
          "2012",
          "2013",
          "2014",
          "2015",
          "2016",
          "2017",
          "2018"
         ],
         "y": [
          328,
          361,
          452,
          368,
          339,
          412,
          453
         ]
        },
        {
         "mode": "markers+lines",
         "name": "gestão_informação",
         "type": "scatter",
         "x": [
          "2012",
          "2013",
          "2014",
          "2015",
          "2016",
          "2017",
          "2018"
         ],
         "y": [
          174,
          114,
          84,
          147,
          159,
          99,
          115
         ]
        },
        {
         "mode": "markers+lines",
         "name": "informação_científica",
         "type": "scatter",
         "x": [
          "2012",
          "2013",
          "2014",
          "2015",
          "2016",
          "2017",
          "2018"
         ],
         "y": [
          4207,
          4272,
          4657,
          4580,
          5893,
          7135,
          6720
         ]
        },
        {
         "mode": "markers+lines",
         "name": "informação_comunicação",
         "type": "scatter",
         "x": [
          "2012",
          "2013",
          "2014",
          "2015",
          "2016",
          "2017",
          "2018"
         ],
         "y": [
          369,
          396,
          297,
          321,
          315,
          344,
          347
         ]
        },
        {
         "mode": "markers+lines",
         "name": "informação_cultura",
         "type": "scatter",
         "x": [
          "2012",
          "2013",
          "2014",
          "2015",
          "2016",
          "2017",
          "2018"
         ],
         "y": [
          31,
          37,
          35,
          32,
          40,
          47,
          40
         ]
        },
        {
         "mode": "markers+lines",
         "name": "informação_digital",
         "type": "scatter",
         "x": [
          "2012",
          "2013",
          "2014",
          "2015",
          "2016",
          "2017",
          "2018"
         ],
         "y": [
          35,
          47,
          34,
          29,
          108,
          91,
          43
         ]
        },
        {
         "mode": "markers+lines",
         "name": "informação_memória",
         "type": "scatter",
         "x": [
          "2012",
          "2013",
          "2014",
          "2015",
          "2016",
          "2017",
          "2018"
         ],
         "y": [
          116,
          82,
          55,
          102,
          104,
          111,
          140
         ]
        },
        {
         "mode": "markers+lines",
         "name": "informação_sociedade",
         "type": "scatter",
         "x": [
          "2012",
          "2013",
          "2014",
          "2015",
          "2016",
          "2017",
          "2018"
         ],
         "y": [
          133,
          124,
          129,
          102,
          139,
          186,
          168
         ]
        },
        {
         "mode": "markers+lines",
         "name": "informação_tecnologia",
         "type": "scatter",
         "x": [
          "2012",
          "2013",
          "2014",
          "2015",
          "2016",
          "2017",
          "2018"
         ],
         "y": [
          458,
          496,
          529,
          560,
          756,
          1007,
          1153
         ]
        },
        {
         "mode": "markers+lines",
         "name": "lei_informação",
         "type": "scatter",
         "x": [
          "2012",
          "2013",
          "2014",
          "2015",
          "2016",
          "2017",
          "2018"
         ],
         "y": [
          65,
          104,
          76,
          140,
          119,
          81,
          109
         ]
        },
        {
         "mode": "markers+lines",
         "name": "mediação_informação",
         "type": "scatter",
         "x": [
          "2012",
          "2013",
          "2014",
          "2015",
          "2016",
          "2017",
          "2018"
         ],
         "y": [
          102,
          102,
          144,
          144,
          180,
          163,
          219
         ]
        },
        {
         "mode": "markers+lines",
         "name": "necessidades_informação",
         "type": "scatter",
         "x": [
          "2012",
          "2013",
          "2014",
          "2015",
          "2016",
          "2017",
          "2018"
         ],
         "y": [
          173,
          200,
          214,
          165,
          118,
          153,
          206
         ]
        },
        {
         "mode": "markers+lines",
         "name": "novas_tecnologias_informação",
         "type": "scatter",
         "x": [
          "2012",
          "2013",
          "2014",
          "2015",
          "2016",
          "2017",
          "2018"
         ],
         "y": [
          40,
          8,
          23,
          20,
          30,
          21,
          26
         ]
        },
        {
         "mode": "markers+lines",
         "name": "obtenção_informação",
         "type": "scatter",
         "x": [
          "2012",
          "2013",
          "2014",
          "2015",
          "2016",
          "2017",
          "2018"
         ],
         "y": [
          0,
          64,
          28,
          28,
          0,
          0,
          0
         ]
        },
        {
         "mode": "markers+lines",
         "name": "organização_informação",
         "type": "scatter",
         "x": [
          "2012",
          "2013",
          "2014",
          "2015",
          "2016",
          "2017",
          "2018"
         ],
         "y": [
          183,
          288,
          307,
          100,
          313,
          213,
          252
         ]
        },
        {
         "mode": "markers+lines",
         "name": "perspectivas_informação",
         "type": "scatter",
         "x": [
          "2012",
          "2013",
          "2014",
          "2015",
          "2016",
          "2017",
          "2018"
         ],
         "y": [
          122,
          94,
          136,
          103,
          139,
          158,
          159
         ]
        },
        {
         "mode": "markers+lines",
         "name": "política_economia_informação",
         "type": "scatter",
         "x": [
          "2012",
          "2013",
          "2014",
          "2015",
          "2016",
          "2017",
          "2018"
         ],
         "y": [
          32,
          29,
          0,
          26,
          38,
          43,
          49
         ]
        },
        {
         "mode": "markers+lines",
         "name": "política_informação",
         "type": "scatter",
         "x": [
          "2012",
          "2013",
          "2014",
          "2015",
          "2016",
          "2017",
          "2018"
         ],
         "y": [
          69,
          163,
          41,
          39,
          41,
          102,
          137
         ]
        },
        {
         "mode": "markers+lines",
         "name": "preservação_informação",
         "type": "scatter",
         "x": [
          "2012",
          "2013",
          "2014",
          "2015",
          "2016",
          "2017",
          "2018"
         ],
         "y": [
          25,
          0,
          0,
          0,
          42,
          0,
          0
         ]
        },
        {
         "mode": "markers+lines",
         "name": "processamento_informação",
         "type": "scatter",
         "x": [
          "2012",
          "2013",
          "2014",
          "2015",
          "2016",
          "2017",
          "2018"
         ],
         "y": [
          28,
          29,
          30,
          35,
          33,
          0,
          52
         ]
        },
        {
         "mode": "markers+lines",
         "name": "produção_comunicação_informação",
         "type": "scatter",
         "x": [
          "2012",
          "2013",
          "2014",
          "2015",
          "2016",
          "2017",
          "2018"
         ],
         "y": [
          37,
          46,
          0,
          36,
          50,
          72,
          58
         ]
        },
        {
         "mode": "markers+lines",
         "name": "produção_informação",
         "type": "scatter",
         "x": [
          "2012",
          "2013",
          "2014",
          "2015",
          "2016",
          "2017",
          "2018"
         ],
         "y": [
          55,
          103,
          47,
          49,
          44,
          44,
          110
         ]
        },
        {
         "mode": "markers+lines",
         "name": "profissional_informação",
         "type": "scatter",
         "x": [
          "2012",
          "2013",
          "2014",
          "2015",
          "2016",
          "2017",
          "2018"
         ],
         "y": [
          249,
          214,
          331,
          201,
          245,
          284,
          206
         ]
        },
        {
         "mode": "markers+lines",
         "name": "qualidade_informação",
         "type": "scatter",
         "x": [
          "2012",
          "2013",
          "2014",
          "2015",
          "2016",
          "2017",
          "2018"
         ],
         "y": [
          114,
          64,
          44,
          48,
          43,
          92,
          117
         ]
        },
        {
         "mode": "markers+lines",
         "name": "recuperação_informação",
         "type": "scatter",
         "x": [
          "2012",
          "2013",
          "2014",
          "2015",
          "2016",
          "2017",
          "2018"
         ],
         "y": [
          497,
          431,
          602,
          716,
          564,
          632,
          559
         ]
        },
        {
         "mode": "markers+lines",
         "name": "regime_informação",
         "type": "scatter",
         "x": [
          "2012",
          "2013",
          "2014",
          "2015",
          "2016",
          "2017",
          "2018"
         ],
         "y": [
          92,
          150,
          97,
          131,
          124,
          201,
          310
         ]
        },
        {
         "mode": "markers+lines",
         "name": "representação_informação",
         "type": "scatter",
         "x": [
          "2012",
          "2013",
          "2014",
          "2015",
          "2016",
          "2017",
          "2018"
         ],
         "y": [
          124,
          136,
          175,
          129,
          225,
          199,
          284
         ]
        },
        {
         "mode": "markers+lines",
         "name": "segurança_informação",
         "type": "scatter",
         "x": [
          "2012",
          "2013",
          "2014",
          "2015",
          "2016",
          "2017",
          "2018"
         ],
         "y": [
          0,
          51,
          28,
          34,
          65,
          0,
          63
         ]
        },
        {
         "mode": "markers+lines",
         "name": "serviços_informação",
         "type": "scatter",
         "x": [
          "2012",
          "2013",
          "2014",
          "2015",
          "2016",
          "2017",
          "2018"
         ],
         "y": [
          95,
          79,
          125,
          104,
          86,
          90,
          173
         ]
        },
        {
         "mode": "markers+lines",
         "name": "sistema_informação",
         "type": "scatter",
         "x": [
          "2012",
          "2013",
          "2014",
          "2015",
          "2016",
          "2017",
          "2018"
         ],
         "y": [
          428,
          310,
          359,
          282,
          278,
          342,
          474
         ]
        },
        {
         "mode": "markers+lines",
         "name": "sistema_recuperação_informação",
         "type": "scatter",
         "x": [
          "2012",
          "2013",
          "2014",
          "2015",
          "2016",
          "2017",
          "2018"
         ],
         "y": [
          74,
          85,
          111,
          189,
          93,
          108,
          54
         ]
        },
        {
         "mode": "markers+lines",
         "name": "sociedade_informação",
         "type": "scatter",
         "x": [
          "2012",
          "2013",
          "2014",
          "2015",
          "2016",
          "2017",
          "2018"
         ],
         "y": [
          174,
          149,
          190,
          193,
          176,
          183,
          255
         ]
        },
        {
         "mode": "markers+lines",
         "name": "tecnologia_informação",
         "type": "scatter",
         "x": [
          "2012",
          "2013",
          "2014",
          "2015",
          "2016",
          "2017",
          "2018"
         ],
         "y": [
          402,
          360,
          399,
          314,
          373,
          413,
          459
         ]
        },
        {
         "mode": "markers+lines",
         "name": "tecnologias_informação_comunicação",
         "type": "scatter",
         "x": [
          "2012",
          "2013",
          "2014",
          "2015",
          "2016",
          "2017",
          "2018"
         ],
         "y": [
          184,
          154,
          152,
          136,
          148,
          182,
          171
         ]
        },
        {
         "mode": "markers+lines",
         "name": "tratamento_informação",
         "type": "scatter",
         "x": [
          "2012",
          "2013",
          "2014",
          "2015",
          "2016",
          "2017",
          "2018"
         ],
         "y": [
          56,
          68,
          74,
          45,
          55,
          56,
          121
         ]
        },
        {
         "mode": "markers+lines",
         "name": "troca_informação",
         "type": "scatter",
         "x": [
          "2012",
          "2013",
          "2014",
          "2015",
          "2016",
          "2017",
          "2018"
         ],
         "y": [
          61,
          51,
          31,
          30,
          32,
          0,
          0
         ]
        },
        {
         "mode": "markers+lines",
         "name": "unidades_informação",
         "type": "scatter",
         "x": [
          "2012",
          "2013",
          "2014",
          "2015",
          "2016",
          "2017",
          "2018"
         ],
         "y": [
          83,
          67,
          70,
          104,
          147,
          74,
          119
         ]
        },
        {
         "mode": "markers+lines",
         "name": "uso_informação",
         "type": "scatter",
         "x": [
          "2012",
          "2013",
          "2014",
          "2015",
          "2016",
          "2017",
          "2018"
         ],
         "y": [
          333,
          333,
          316,
          324,
          325,
          312,
          376,
          405
         ]
        },
        {
         "mode": "markers+lines",
         "name": "usuários_informação",
         "type": "scatter",
         "x": [
          "2012",
          "2013",
          "2014",
          "2015",
          "2016",
          "2017",
          "2018"
         ],
         "y": [
          58,
          94,
          44,
          74,
          37,
          66,
          94
         ]
        }
       ],
       "layout": {
        "template": {
         "data": {
          "bar": [
           {
            "error_x": {
             "color": "#2a3f5f"
            },
            "error_y": {
             "color": "#2a3f5f"
            },
            "marker": {
             "line": {
              "color": "#E5ECF6",
              "width": 0.5
             }
            },
            "type": "bar"
           }
          ],
          "barpolar": [
           {
            "marker": {
             "line": {
              "color": "#E5ECF6",
              "width": 0.5
             }
            },
            "type": "barpolar"
           }
          ],
          "carpet": [
           {
            "aaxis": {
             "endlinecolor": "#2a3f5f",
             "gridcolor": "white",
             "linecolor": "white",
             "minorgridcolor": "white",
             "startlinecolor": "#2a3f5f"
            },
            "baxis": {
             "endlinecolor": "#2a3f5f",
             "gridcolor": "white",
             "linecolor": "white",
             "minorgridcolor": "white",
             "startlinecolor": "#2a3f5f"
            },
            "type": "carpet"
           }
          ],
          "choropleth": [
           {
            "colorbar": {
             "outlinewidth": 0,
             "ticks": ""
            },
            "type": "choropleth"
           }
          ],
          "contour": [
           {
            "colorbar": {
             "outlinewidth": 0,
             "ticks": ""
            },
            "colorscale": [
             [
              0,
              "#0d0887"
             ],
             [
              0.1111111111111111,
              "#46039f"
             ],
             [
              0.2222222222222222,
              "#7201a8"
             ],
             [
              0.3333333333333333,
              "#9c179e"
             ],
             [
              0.4444444444444444,
              "#bd3786"
             ],
             [
              0.5555555555555556,
              "#d8576b"
             ],
             [
              0.6666666666666666,
              "#ed7953"
             ],
             [
              0.7777777777777778,
              "#fb9f3a"
             ],
             [
              0.8888888888888888,
              "#fdca26"
             ],
             [
              1,
              "#f0f921"
             ]
            ],
            "type": "contour"
           }
          ],
          "contourcarpet": [
           {
            "colorbar": {
             "outlinewidth": 0,
             "ticks": ""
            },
            "type": "contourcarpet"
           }
          ],
          "heatmap": [
           {
            "colorbar": {
             "outlinewidth": 0,
             "ticks": ""
            },
            "colorscale": [
             [
              0,
              "#0d0887"
             ],
             [
              0.1111111111111111,
              "#46039f"
             ],
             [
              0.2222222222222222,
              "#7201a8"
             ],
             [
              0.3333333333333333,
              "#9c179e"
             ],
             [
              0.4444444444444444,
              "#bd3786"
             ],
             [
              0.5555555555555556,
              "#d8576b"
             ],
             [
              0.6666666666666666,
              "#ed7953"
             ],
             [
              0.7777777777777778,
              "#fb9f3a"
             ],
             [
              0.8888888888888888,
              "#fdca26"
             ],
             [
              1,
              "#f0f921"
             ]
            ],
            "type": "heatmap"
           }
          ],
          "heatmapgl": [
           {
            "colorbar": {
             "outlinewidth": 0,
             "ticks": ""
            },
            "colorscale": [
             [
              0,
              "#0d0887"
             ],
             [
              0.1111111111111111,
              "#46039f"
             ],
             [
              0.2222222222222222,
              "#7201a8"
             ],
             [
              0.3333333333333333,
              "#9c179e"
             ],
             [
              0.4444444444444444,
              "#bd3786"
             ],
             [
              0.5555555555555556,
              "#d8576b"
             ],
             [
              0.6666666666666666,
              "#ed7953"
             ],
             [
              0.7777777777777778,
              "#fb9f3a"
             ],
             [
              0.8888888888888888,
              "#fdca26"
             ],
             [
              1,
              "#f0f921"
             ]
            ],
            "type": "heatmapgl"
           }
          ],
          "histogram": [
           {
            "marker": {
             "colorbar": {
              "outlinewidth": 0,
              "ticks": ""
             }
            },
            "type": "histogram"
           }
          ],
          "histogram2d": [
           {
            "colorbar": {
             "outlinewidth": 0,
             "ticks": ""
            },
            "colorscale": [
             [
              0,
              "#0d0887"
             ],
             [
              0.1111111111111111,
              "#46039f"
             ],
             [
              0.2222222222222222,
              "#7201a8"
             ],
             [
              0.3333333333333333,
              "#9c179e"
             ],
             [
              0.4444444444444444,
              "#bd3786"
             ],
             [
              0.5555555555555556,
              "#d8576b"
             ],
             [
              0.6666666666666666,
              "#ed7953"
             ],
             [
              0.7777777777777778,
              "#fb9f3a"
             ],
             [
              0.8888888888888888,
              "#fdca26"
             ],
             [
              1,
              "#f0f921"
             ]
            ],
            "type": "histogram2d"
           }
          ],
          "histogram2dcontour": [
           {
            "colorbar": {
             "outlinewidth": 0,
             "ticks": ""
            },
            "colorscale": [
             [
              0,
              "#0d0887"
             ],
             [
              0.1111111111111111,
              "#46039f"
             ],
             [
              0.2222222222222222,
              "#7201a8"
             ],
             [
              0.3333333333333333,
              "#9c179e"
             ],
             [
              0.4444444444444444,
              "#bd3786"
             ],
             [
              0.5555555555555556,
              "#d8576b"
             ],
             [
              0.6666666666666666,
              "#ed7953"
             ],
             [
              0.7777777777777778,
              "#fb9f3a"
             ],
             [
              0.8888888888888888,
              "#fdca26"
             ],
             [
              1,
              "#f0f921"
             ]
            ],
            "type": "histogram2dcontour"
           }
          ],
          "mesh3d": [
           {
            "colorbar": {
             "outlinewidth": 0,
             "ticks": ""
            },
            "type": "mesh3d"
           }
          ],
          "parcoords": [
           {
            "line": {
             "colorbar": {
              "outlinewidth": 0,
              "ticks": ""
             }
            },
            "type": "parcoords"
           }
          ],
          "pie": [
           {
            "automargin": true,
            "type": "pie"
           }
          ],
          "scatter": [
           {
            "marker": {
             "colorbar": {
              "outlinewidth": 0,
              "ticks": ""
             }
            },
            "type": "scatter"
           }
          ],
          "scatter3d": [
           {
            "line": {
             "colorbar": {
              "outlinewidth": 0,
              "ticks": ""
             }
            },
            "marker": {
             "colorbar": {
              "outlinewidth": 0,
              "ticks": ""
             }
            },
            "type": "scatter3d"
           }
          ],
          "scattercarpet": [
           {
            "marker": {
             "colorbar": {
              "outlinewidth": 0,
              "ticks": ""
             }
            },
            "type": "scattercarpet"
           }
          ],
          "scattergeo": [
           {
            "marker": {
             "colorbar": {
              "outlinewidth": 0,
              "ticks": ""
             }
            },
            "type": "scattergeo"
           }
          ],
          "scattergl": [
           {
            "marker": {
             "colorbar": {
              "outlinewidth": 0,
              "ticks": ""
             }
            },
            "type": "scattergl"
           }
          ],
          "scattermapbox": [
           {
            "marker": {
             "colorbar": {
              "outlinewidth": 0,
              "ticks": ""
             }
            },
            "type": "scattermapbox"
           }
          ],
          "scatterpolar": [
           {
            "marker": {
             "colorbar": {
              "outlinewidth": 0,
              "ticks": ""
             }
            },
            "type": "scatterpolar"
           }
          ],
          "scatterpolargl": [
           {
            "marker": {
             "colorbar": {
              "outlinewidth": 0,
              "ticks": ""
             }
            },
            "type": "scatterpolargl"
           }
          ],
          "scatterternary": [
           {
            "marker": {
             "colorbar": {
              "outlinewidth": 0,
              "ticks": ""
             }
            },
            "type": "scatterternary"
           }
          ],
          "surface": [
           {
            "colorbar": {
             "outlinewidth": 0,
             "ticks": ""
            },
            "colorscale": [
             [
              0,
              "#0d0887"
             ],
             [
              0.1111111111111111,
              "#46039f"
             ],
             [
              0.2222222222222222,
              "#7201a8"
             ],
             [
              0.3333333333333333,
              "#9c179e"
             ],
             [
              0.4444444444444444,
              "#bd3786"
             ],
             [
              0.5555555555555556,
              "#d8576b"
             ],
             [
              0.6666666666666666,
              "#ed7953"
             ],
             [
              0.7777777777777778,
              "#fb9f3a"
             ],
             [
              0.8888888888888888,
              "#fdca26"
             ],
             [
              1,
              "#f0f921"
             ]
            ],
            "type": "surface"
           }
          ],
          "table": [
           {
            "cells": {
             "fill": {
              "color": "#EBF0F8"
             },
             "line": {
              "color": "white"
             }
            },
            "header": {
             "fill": {
              "color": "#C8D4E3"
             },
             "line": {
              "color": "white"
             }
            },
            "type": "table"
           }
          ]
         },
         "layout": {
          "annotationdefaults": {
           "arrowcolor": "#2a3f5f",
           "arrowhead": 0,
           "arrowwidth": 1
          },
          "coloraxis": {
           "colorbar": {
            "outlinewidth": 0,
            "ticks": ""
           }
          },
          "colorscale": {
           "diverging": [
            [
             0,
             "#8e0152"
            ],
            [
             0.1,
             "#c51b7d"
            ],
            [
             0.2,
             "#de77ae"
            ],
            [
             0.3,
             "#f1b6da"
            ],
            [
             0.4,
             "#fde0ef"
            ],
            [
             0.5,
             "#f7f7f7"
            ],
            [
             0.6,
             "#e6f5d0"
            ],
            [
             0.7,
             "#b8e186"
            ],
            [
             0.8,
             "#7fbc41"
            ],
            [
             0.9,
             "#4d9221"
            ],
            [
             1,
             "#276419"
            ]
           ],
           "sequential": [
            [
             0,
             "#0d0887"
            ],
            [
             0.1111111111111111,
             "#46039f"
            ],
            [
             0.2222222222222222,
             "#7201a8"
            ],
            [
             0.3333333333333333,
             "#9c179e"
            ],
            [
             0.4444444444444444,
             "#bd3786"
            ],
            [
             0.5555555555555556,
             "#d8576b"
            ],
            [
             0.6666666666666666,
             "#ed7953"
            ],
            [
             0.7777777777777778,
             "#fb9f3a"
            ],
            [
             0.8888888888888888,
             "#fdca26"
            ],
            [
             1,
             "#f0f921"
            ]
           ],
           "sequentialminus": [
            [
             0,
             "#0d0887"
            ],
            [
             0.1111111111111111,
             "#46039f"
            ],
            [
             0.2222222222222222,
             "#7201a8"
            ],
            [
             0.3333333333333333,
             "#9c179e"
            ],
            [
             0.4444444444444444,
             "#bd3786"
            ],
            [
             0.5555555555555556,
             "#d8576b"
            ],
            [
             0.6666666666666666,
             "#ed7953"
            ],
            [
             0.7777777777777778,
             "#fb9f3a"
            ],
            [
             0.8888888888888888,
             "#fdca26"
            ],
            [
             1,
             "#f0f921"
            ]
           ]
          },
          "colorway": [
           "#636efa",
           "#EF553B",
           "#00cc96",
           "#ab63fa",
           "#FFA15A",
           "#19d3f3",
           "#FF6692",
           "#B6E880",
           "#FF97FF",
           "#FECB52"
          ],
          "font": {
           "color": "#2a3f5f"
          },
          "geo": {
           "bgcolor": "white",
           "lakecolor": "white",
           "landcolor": "#E5ECF6",
           "showlakes": true,
           "showland": true,
           "subunitcolor": "white"
          },
          "hoverlabel": {
           "align": "left"
          },
          "hovermode": "closest",
          "mapbox": {
           "style": "light"
          },
          "paper_bgcolor": "white",
          "plot_bgcolor": "#E5ECF6",
          "polar": {
           "angularaxis": {
            "gridcolor": "white",
            "linecolor": "white",
            "ticks": ""
           },
           "bgcolor": "#E5ECF6",
           "radialaxis": {
            "gridcolor": "white",
            "linecolor": "white",
            "ticks": ""
           }
          },
          "scene": {
           "xaxis": {
            "backgroundcolor": "#E5ECF6",
            "gridcolor": "white",
            "gridwidth": 2,
            "linecolor": "white",
            "showbackground": true,
            "ticks": "",
            "zerolinecolor": "white"
           },
           "yaxis": {
            "backgroundcolor": "#E5ECF6",
            "gridcolor": "white",
            "gridwidth": 2,
            "linecolor": "white",
            "showbackground": true,
            "ticks": "",
            "zerolinecolor": "white"
           },
           "zaxis": {
            "backgroundcolor": "#E5ECF6",
            "gridcolor": "white",
            "gridwidth": 2,
            "linecolor": "white",
            "showbackground": true,
            "ticks": "",
            "zerolinecolor": "white"
           }
          },
          "shapedefaults": {
           "line": {
            "color": "#2a3f5f"
           }
          },
          "ternary": {
           "aaxis": {
            "gridcolor": "white",
            "linecolor": "white",
            "ticks": ""
           },
           "baxis": {
            "gridcolor": "white",
            "linecolor": "white",
            "ticks": ""
           },
           "bgcolor": "#E5ECF6",
           "caxis": {
            "gridcolor": "white",
            "linecolor": "white",
            "ticks": ""
           }
          },
          "title": {
           "x": 0.05
          },
          "xaxis": {
           "automargin": true,
           "gridcolor": "white",
           "linecolor": "white",
           "ticks": "",
           "title": {
            "standoff": 15
           },
           "zerolinecolor": "white",
           "zerolinewidth": 2
          },
          "yaxis": {
           "automargin": true,
           "gridcolor": "white",
           "linecolor": "white",
           "ticks": "",
           "title": {
            "standoff": 15
           },
           "zerolinecolor": "white",
           "zerolinewidth": 2
          }
         }
        },
        "title": {
         "text": "Frequência dos termos de composição a partir do termo “Informação”",
         "x": 0,
         "xref": "paper"
        },
        "xaxis": {
         "title": {
          "font": {
           "color": "#7f7f7f",
           "family": "Courier New, monospace",
           "size": 18
          },
          "text": "Anos"
         }
        },
        "yaxis": {
         "title": {
          "font": {
           "color": "#7f7f7f",
           "family": "Courier New, monospace",
           "size": 18
          },
          "text": "Frequência"
         }
        }
       }
      },
      "text/html": [
       "<div>\n",
       "        \n",
       "        \n",
       "            <div id=\"ef51159a-3754-46bf-908a-cfd5ace08d6d\" class=\"plotly-graph-div\" style=\"height:525px; width:100%;\"></div>\n",
       "            <script type=\"text/javascript\">\n",
       "                require([\"plotly\"], function(Plotly) {\n",
       "                    window.PLOTLYENV=window.PLOTLYENV || {};\n",
       "                    \n",
       "                if (document.getElementById(\"ef51159a-3754-46bf-908a-cfd5ace08d6d\")) {\n",
       "                    Plotly.newPlot(\n",
       "                        'ef51159a-3754-46bf-908a-cfd5ace08d6d',\n",
       "                        [{\"mode\": \"markers+lines\", \"name\": \"dados_informa\\u00e7\\u00e3o_conhecimento\", \"type\": \"scatter\", \"x\": [\"2012\", \"2013\", \"2014\", \"2015\", \"2016\", \"2017\", \"2018\"], \"y\": [20, 0, 14, 0, 0, 13, 0]}, {\"mode\": \"markers+lines\", \"name\": \"informa\\u00e7\\u00e3o_conhecimento\", \"type\": \"scatter\", \"x\": [\"2012\", \"2013\", \"2014\", \"2015\", \"2016\", \"2017\", \"2018\"], \"y\": [474, 418, 376, 459, 502, 581, 571]}, {\"mode\": \"markers+lines\", \"name\": \"informa\\u00e7\\u00e3o\", \"type\": \"scatter\", \"x\": [\"2012\", \"2013\", \"2014\", \"2015\", \"2016\", \"2017\", \"2018\"], \"y\": [19056, 17936, 20495, 17934, 22559, 23111, 27146]}, {\"mode\": \"markers+lines\", \"name\": \"apropria\\u00e7\\u00e3o_informa\\u00e7\\u00e3o\", \"type\": \"scatter\", \"x\": [\"2012\", \"2013\", \"2014\", \"2015\", \"2016\", \"2017\", \"2018\"], \"y\": [102, 77, 108, 65, 58, 211, 175]}, {\"mode\": \"markers+lines\", \"name\": \"arquitetura_informa\\u00e7\\u00e3o\", \"type\": \"scatter\", \"x\": [\"2012\", \"2013\", \"2014\", \"2015\", \"2016\", \"2017\", \"2018\"], \"y\": [161, 167, 237, 108, 324, 165, 283]}, {\"mode\": \"markers+lines\", \"name\": \"artefatos_informa\\u00e7\\u00e3o\", \"type\": \"scatter\", \"x\": [\"2012\", \"2013\", \"2014\", \"2015\", \"2016\", \"2017\", \"2018\"], \"y\": [0, 25, 0, 0, 0, 0, 0]}, {\"mode\": \"markers+lines\", \"name\": \"auditoria_informa\\u00e7\\u00e3o\", \"type\": \"scatter\", \"x\": [\"2012\", \"2013\", \"2014\", \"2015\", \"2016\", \"2017\", \"2018\"], \"y\": [0, 0, 0, 53, 0, 0, 0]}, {\"mode\": \"markers+lines\", \"name\": \"busca_informa\\u00e7\\u00e3o\", \"type\": \"scatter\", \"x\": [\"2012\", \"2013\", \"2014\", \"2015\", \"2016\", \"2017\", \"2018\"], \"y\": [160, 131, 162, 192, 119, 167, 144]}, {\"mode\": \"markers+lines\", \"name\": \"circula\\u00e7\\u00e3o_apropria\\u00e7\\u00e3o_informa\\u00e7\\u00e3o\", \"type\": \"scatter\", \"x\": [\"2012\", \"2013\", \"2014\", \"2015\", \"2016\", \"2017\", \"2018\"], \"y\": [40, 44, 11, 31, 0, 55, 65]}, {\"mode\": \"markers+lines\", \"name\": \"circula\\u00e7\\u00e3o_informa\\u00e7\\u00e3o\", \"type\": \"scatter\", \"x\": [\"2012\", \"2013\", \"2014\", \"2015\", \"2016\", \"2017\", \"2018\"], \"y\": [32, 32, 33, 0, 0, 0, 0]}, {\"mode\": \"markers+lines\", \"name\": \"compartilhamento_informa\\u00e7\\u00e3o\", \"type\": \"scatter\", \"x\": [\"2012\", \"2013\", \"2014\", \"2015\", \"2016\", \"2017\", \"2018\"], \"y\": [65, 70, 90, 81, 97, 176, 118]}, {\"mode\": \"markers+lines\", \"name\": \"compet\\u00eancia_informa\\u00e7\\u00e3o\", \"type\": \"scatter\", \"x\": [\"2012\", \"2013\", \"2014\", \"2015\", \"2016\", \"2017\", \"2018\"], \"y\": [106, 132, 126, 239, 367, 449, 703]}, {\"mode\": \"markers+lines\", \"name\": \"comportamento_informacional\", \"type\": \"scatter\", \"x\": [\"2012\", \"2013\", \"2014\", \"2015\", \"2016\", \"2017\", \"2018\"], \"y\": [199, 109, 120, 232, 134, 125, 137]}, {\"mode\": \"markers+lines\", \"name\": \"comunica\\u00e7\\u00e3o_informa\\u00e7\\u00e3o\", \"type\": \"scatter\", \"x\": [\"2012\", \"2013\", \"2014\", \"2015\", \"2016\", \"2017\", \"2018\"], \"y\": [126, 153, 103, 143, 174, 195, 187]}, {\"mode\": \"markers+lines\", \"name\": \"conceito_informa\\u00e7\\u00e3o\", \"type\": \"scatter\", \"x\": [\"2012\", \"2013\", \"2014\", \"2015\", \"2016\", \"2017\", \"2018\"], \"y\": [90, 79, 103, 63, 147, 121, 143]}, {\"mode\": \"markers+lines\", \"name\": \"cultura_informa\\u00e7\\u00e3o\", \"type\": \"scatter\", \"x\": [\"2012\", \"2013\", \"2014\", \"2015\", \"2016\", \"2017\", \"2018\"], \"y\": [0, 0, 0, 0, 32, 0, 0]}, {\"mode\": \"markers+lines\", \"name\": \"difus\\u00e3o_informa\\u00e7\\u00e3o\", \"type\": \"scatter\", \"x\": [\"2012\", \"2013\", \"2014\", \"2015\", \"2016\", \"2017\", \"2018\"], \"y\": [0, 31, 0, 0, 0, 0, 0]}, {\"mode\": \"markers+lines\", \"name\": \"direito_informa\\u00e7\\u00e3o\", \"type\": \"scatter\", \"x\": [\"2012\", \"2013\", \"2014\", \"2015\", \"2016\", \"2017\", \"2018\"], \"y\": [144, 101, 92, 100, 101, 53, 80]}, {\"mode\": \"markers+lines\", \"name\": \"disponibiliza\\u00e7\\u00e3o_informa\\u00e7\\u00e3o\", \"type\": \"scatter\", \"x\": [\"2012\", \"2013\", \"2014\", \"2015\", \"2016\", \"2017\", \"2018\"], \"y\": [0, 30, 0, 32, 0, 39, 0]}, {\"mode\": \"markers+lines\", \"name\": \"dissemina\\u00e7\\u00e3o_informa\\u00e7\\u00e3o\", \"type\": \"scatter\", \"x\": [\"2012\", \"2013\", \"2014\", \"2015\", \"2016\", \"2017\", \"2018\"], \"y\": [117, 133, 117, 111, 118, 125, 141]}, {\"mode\": \"markers+lines\", \"name\": \"divulga\\u00e7\\u00e3o_informa\\u00e7\\u00e3o\", \"type\": \"scatter\", \"x\": [\"2012\", \"2013\", \"2014\", \"2015\", \"2016\", \"2017\", \"2018\"], \"y\": [27, 0, 41, 34, 41, 0, 0]}, {\"mode\": \"markers+lines\", \"name\": \"economia_informa\\u00e7\\u00e3o\", \"type\": \"scatter\", \"x\": [\"2012\", \"2013\", \"2014\", \"2015\", \"2016\", \"2017\", \"2018\"], \"y\": [0, 41, 0, 41, 47, 59, 58]}, {\"mode\": \"markers+lines\", \"name\": \"epistemologia_informa\\u00e7\\u00e3o\", \"type\": \"scatter\", \"x\": [\"2012\", \"2013\", \"2014\", \"2015\", \"2016\", \"2017\", \"2018\"], \"y\": [33, 64, 27, 0, 0, 32, 55]}, {\"mode\": \"markers+lines\", \"name\": \"filosofia_informa\\u00e7\\u00e3o\", \"type\": \"scatter\", \"x\": [\"2012\", \"2013\", \"2014\", \"2015\", \"2016\", \"2017\", \"2018\"], \"y\": [0, 23, 64, 0, 0, 38, 50]}, {\"mode\": \"markers+lines\", \"name\": \"fluxo_informa\\u00e7\\u00e3o\", \"type\": \"scatter\", \"x\": [\"2012\", \"2013\", \"2014\", \"2015\", \"2016\", \"2017\", \"2018\"], \"y\": [182, 133, 209, 129, 135, 202, 198]}, {\"mode\": \"markers+lines\", \"name\": \"fonte_informa\\u00e7\\u00e3o\", \"type\": \"scatter\", \"x\": [\"2012\", \"2013\", \"2014\", \"2015\", \"2016\", \"2017\", \"2018\"], \"y\": [328, 361, 452, 368, 339, 412, 453]}, {\"mode\": \"markers+lines\", \"name\": \"gest\\u00e3o_informa\\u00e7\\u00e3o\", \"type\": \"scatter\", \"x\": [\"2012\", \"2013\", \"2014\", \"2015\", \"2016\", \"2017\", \"2018\"], \"y\": [174, 114, 84, 147, 159, 99, 115]}, {\"mode\": \"markers+lines\", \"name\": \"informa\\u00e7\\u00e3o_cient\\u00edfica\", \"type\": \"scatter\", \"x\": [\"2012\", \"2013\", \"2014\", \"2015\", \"2016\", \"2017\", \"2018\"], \"y\": [4207, 4272, 4657, 4580, 5893, 7135, 6720]}, {\"mode\": \"markers+lines\", \"name\": \"informa\\u00e7\\u00e3o_comunica\\u00e7\\u00e3o\", \"type\": \"scatter\", \"x\": [\"2012\", \"2013\", \"2014\", \"2015\", \"2016\", \"2017\", \"2018\"], \"y\": [369, 396, 297, 321, 315, 344, 347]}, {\"mode\": \"markers+lines\", \"name\": \"informa\\u00e7\\u00e3o_cultura\", \"type\": \"scatter\", \"x\": [\"2012\", \"2013\", \"2014\", \"2015\", \"2016\", \"2017\", \"2018\"], \"y\": [31, 37, 35, 32, 40, 47, 40]}, {\"mode\": \"markers+lines\", \"name\": \"informa\\u00e7\\u00e3o_digital\", \"type\": \"scatter\", \"x\": [\"2012\", \"2013\", \"2014\", \"2015\", \"2016\", \"2017\", \"2018\"], \"y\": [35, 47, 34, 29, 108, 91, 43]}, {\"mode\": \"markers+lines\", \"name\": \"informa\\u00e7\\u00e3o_mem\\u00f3ria\", \"type\": \"scatter\", \"x\": [\"2012\", \"2013\", \"2014\", \"2015\", \"2016\", \"2017\", \"2018\"], \"y\": [116, 82, 55, 102, 104, 111, 140]}, {\"mode\": \"markers+lines\", \"name\": \"informa\\u00e7\\u00e3o_sociedade\", \"type\": \"scatter\", \"x\": [\"2012\", \"2013\", \"2014\", \"2015\", \"2016\", \"2017\", \"2018\"], \"y\": [133, 124, 129, 102, 139, 186, 168]}, {\"mode\": \"markers+lines\", \"name\": \"informa\\u00e7\\u00e3o_tecnologia\", \"type\": \"scatter\", \"x\": [\"2012\", \"2013\", \"2014\", \"2015\", \"2016\", \"2017\", \"2018\"], \"y\": [458, 496, 529, 560, 756, 1007, 1153]}, {\"mode\": \"markers+lines\", \"name\": \"lei_informa\\u00e7\\u00e3o\", \"type\": \"scatter\", \"x\": [\"2012\", \"2013\", \"2014\", \"2015\", \"2016\", \"2017\", \"2018\"], \"y\": [65, 104, 76, 140, 119, 81, 109]}, {\"mode\": \"markers+lines\", \"name\": \"media\\u00e7\\u00e3o_informa\\u00e7\\u00e3o\", \"type\": \"scatter\", \"x\": [\"2012\", \"2013\", \"2014\", \"2015\", \"2016\", \"2017\", \"2018\"], \"y\": [102, 102, 144, 144, 180, 163, 219]}, {\"mode\": \"markers+lines\", \"name\": \"necessidades_informa\\u00e7\\u00e3o\", \"type\": \"scatter\", \"x\": [\"2012\", \"2013\", \"2014\", \"2015\", \"2016\", \"2017\", \"2018\"], \"y\": [173, 200, 214, 165, 118, 153, 206]}, {\"mode\": \"markers+lines\", \"name\": \"novas_tecnologias_informa\\u00e7\\u00e3o\", \"type\": \"scatter\", \"x\": [\"2012\", \"2013\", \"2014\", \"2015\", \"2016\", \"2017\", \"2018\"], \"y\": [40, 8, 23, 20, 30, 21, 26]}, {\"mode\": \"markers+lines\", \"name\": \"obten\\u00e7\\u00e3o_informa\\u00e7\\u00e3o\", \"type\": \"scatter\", \"x\": [\"2012\", \"2013\", \"2014\", \"2015\", \"2016\", \"2017\", \"2018\"], \"y\": [0, 64, 28, 28, 0, 0, 0]}, {\"mode\": \"markers+lines\", \"name\": \"organiza\\u00e7\\u00e3o_informa\\u00e7\\u00e3o\", \"type\": \"scatter\", \"x\": [\"2012\", \"2013\", \"2014\", \"2015\", \"2016\", \"2017\", \"2018\"], \"y\": [183, 288, 307, 100, 313, 213, 252]}, {\"mode\": \"markers+lines\", \"name\": \"perspectivas_informa\\u00e7\\u00e3o\", \"type\": \"scatter\", \"x\": [\"2012\", \"2013\", \"2014\", \"2015\", \"2016\", \"2017\", \"2018\"], \"y\": [122, 94, 136, 103, 139, 158, 159]}, {\"mode\": \"markers+lines\", \"name\": \"pol\\u00edtica_economia_informa\\u00e7\\u00e3o\", \"type\": \"scatter\", \"x\": [\"2012\", \"2013\", \"2014\", \"2015\", \"2016\", \"2017\", \"2018\"], \"y\": [32, 29, 0, 26, 38, 43, 49]}, {\"mode\": \"markers+lines\", \"name\": \"pol\\u00edtica_informa\\u00e7\\u00e3o\", \"type\": \"scatter\", \"x\": [\"2012\", \"2013\", \"2014\", \"2015\", \"2016\", \"2017\", \"2018\"], \"y\": [69, 163, 41, 39, 41, 102, 137]}, {\"mode\": \"markers+lines\", \"name\": \"preserva\\u00e7\\u00e3o_informa\\u00e7\\u00e3o\", \"type\": \"scatter\", \"x\": [\"2012\", \"2013\", \"2014\", \"2015\", \"2016\", \"2017\", \"2018\"], \"y\": [25, 0, 0, 0, 42, 0, 0]}, {\"mode\": \"markers+lines\", \"name\": \"processamento_informa\\u00e7\\u00e3o\", \"type\": \"scatter\", \"x\": [\"2012\", \"2013\", \"2014\", \"2015\", \"2016\", \"2017\", \"2018\"], \"y\": [28, 29, 30, 35, 33, 0, 52]}, {\"mode\": \"markers+lines\", \"name\": \"produ\\u00e7\\u00e3o_comunica\\u00e7\\u00e3o_informa\\u00e7\\u00e3o\", \"type\": \"scatter\", \"x\": [\"2012\", \"2013\", \"2014\", \"2015\", \"2016\", \"2017\", \"2018\"], \"y\": [37, 46, 0, 36, 50, 72, 58]}, {\"mode\": \"markers+lines\", \"name\": \"produ\\u00e7\\u00e3o_informa\\u00e7\\u00e3o\", \"type\": \"scatter\", \"x\": [\"2012\", \"2013\", \"2014\", \"2015\", \"2016\", \"2017\", \"2018\"], \"y\": [55, 103, 47, 49, 44, 44, 110]}, {\"mode\": \"markers+lines\", \"name\": \"profissional_informa\\u00e7\\u00e3o\", \"type\": \"scatter\", \"x\": [\"2012\", \"2013\", \"2014\", \"2015\", \"2016\", \"2017\", \"2018\"], \"y\": [249, 214, 331, 201, 245, 284, 206]}, {\"mode\": \"markers+lines\", \"name\": \"qualidade_informa\\u00e7\\u00e3o\", \"type\": \"scatter\", \"x\": [\"2012\", \"2013\", \"2014\", \"2015\", \"2016\", \"2017\", \"2018\"], \"y\": [114, 64, 44, 48, 43, 92, 117]}, {\"mode\": \"markers+lines\", \"name\": \"recupera\\u00e7\\u00e3o_informa\\u00e7\\u00e3o\", \"type\": \"scatter\", \"x\": [\"2012\", \"2013\", \"2014\", \"2015\", \"2016\", \"2017\", \"2018\"], \"y\": [497, 431, 602, 716, 564, 632, 559]}, {\"mode\": \"markers+lines\", \"name\": \"regime_informa\\u00e7\\u00e3o\", \"type\": \"scatter\", \"x\": [\"2012\", \"2013\", \"2014\", \"2015\", \"2016\", \"2017\", \"2018\"], \"y\": [92, 150, 97, 131, 124, 201, 310]}, {\"mode\": \"markers+lines\", \"name\": \"representa\\u00e7\\u00e3o_informa\\u00e7\\u00e3o\", \"type\": \"scatter\", \"x\": [\"2012\", \"2013\", \"2014\", \"2015\", \"2016\", \"2017\", \"2018\"], \"y\": [124, 136, 175, 129, 225, 199, 284]}, {\"mode\": \"markers+lines\", \"name\": \"seguran\\u00e7a_informa\\u00e7\\u00e3o\", \"type\": \"scatter\", \"x\": [\"2012\", \"2013\", \"2014\", \"2015\", \"2016\", \"2017\", \"2018\"], \"y\": [0, 51, 28, 34, 65, 0, 63]}, {\"mode\": \"markers+lines\", \"name\": \"servi\\u00e7os_informa\\u00e7\\u00e3o\", \"type\": \"scatter\", \"x\": [\"2012\", \"2013\", \"2014\", \"2015\", \"2016\", \"2017\", \"2018\"], \"y\": [95, 79, 125, 104, 86, 90, 173]}, {\"mode\": \"markers+lines\", \"name\": \"sistema_informa\\u00e7\\u00e3o\", \"type\": \"scatter\", \"x\": [\"2012\", \"2013\", \"2014\", \"2015\", \"2016\", \"2017\", \"2018\"], \"y\": [428, 310, 359, 282, 278, 342, 474]}, {\"mode\": \"markers+lines\", \"name\": \"sistema_recupera\\u00e7\\u00e3o_informa\\u00e7\\u00e3o\", \"type\": \"scatter\", \"x\": [\"2012\", \"2013\", \"2014\", \"2015\", \"2016\", \"2017\", \"2018\"], \"y\": [74, 85, 111, 189, 93, 108, 54]}, {\"mode\": \"markers+lines\", \"name\": \"sociedade_informa\\u00e7\\u00e3o\", \"type\": \"scatter\", \"x\": [\"2012\", \"2013\", \"2014\", \"2015\", \"2016\", \"2017\", \"2018\"], \"y\": [174, 149, 190, 193, 176, 183, 255]}, {\"mode\": \"markers+lines\", \"name\": \"tecnologia_informa\\u00e7\\u00e3o\", \"type\": \"scatter\", \"x\": [\"2012\", \"2013\", \"2014\", \"2015\", \"2016\", \"2017\", \"2018\"], \"y\": [402, 360, 399, 314, 373, 413, 459]}, {\"mode\": \"markers+lines\", \"name\": \"tecnologias_informa\\u00e7\\u00e3o_comunica\\u00e7\\u00e3o\", \"type\": \"scatter\", \"x\": [\"2012\", \"2013\", \"2014\", \"2015\", \"2016\", \"2017\", \"2018\"], \"y\": [184, 154, 152, 136, 148, 182, 171]}, {\"mode\": \"markers+lines\", \"name\": \"tratamento_informa\\u00e7\\u00e3o\", \"type\": \"scatter\", \"x\": [\"2012\", \"2013\", \"2014\", \"2015\", \"2016\", \"2017\", \"2018\"], \"y\": [56, 68, 74, 45, 55, 56, 121]}, {\"mode\": \"markers+lines\", \"name\": \"troca_informa\\u00e7\\u00e3o\", \"type\": \"scatter\", \"x\": [\"2012\", \"2013\", \"2014\", \"2015\", \"2016\", \"2017\", \"2018\"], \"y\": [61, 51, 31, 30, 32, 0, 0]}, {\"mode\": \"markers+lines\", \"name\": \"unidades_informa\\u00e7\\u00e3o\", \"type\": \"scatter\", \"x\": [\"2012\", \"2013\", \"2014\", \"2015\", \"2016\", \"2017\", \"2018\"], \"y\": [83, 67, 70, 104, 147, 74, 119]}, {\"mode\": \"markers+lines\", \"name\": \"uso_informa\\u00e7\\u00e3o\", \"type\": \"scatter\", \"x\": [\"2012\", \"2013\", \"2014\", \"2015\", \"2016\", \"2017\", \"2018\"], \"y\": [333, 333, 316, 324, 325, 312, 376, 405]}, {\"mode\": \"markers+lines\", \"name\": \"usu\\u00e1rios_informa\\u00e7\\u00e3o\", \"type\": \"scatter\", \"x\": [\"2012\", \"2013\", \"2014\", \"2015\", \"2016\", \"2017\", \"2018\"], \"y\": [58, 94, 44, 74, 37, 66, 94]}],\n",
       "                        {\"template\": {\"data\": {\"bar\": [{\"error_x\": {\"color\": \"#2a3f5f\"}, \"error_y\": {\"color\": \"#2a3f5f\"}, \"marker\": {\"line\": {\"color\": \"#E5ECF6\", \"width\": 0.5}}, \"type\": \"bar\"}], \"barpolar\": [{\"marker\": {\"line\": {\"color\": \"#E5ECF6\", \"width\": 0.5}}, \"type\": \"barpolar\"}], \"carpet\": [{\"aaxis\": {\"endlinecolor\": \"#2a3f5f\", \"gridcolor\": \"white\", \"linecolor\": \"white\", \"minorgridcolor\": \"white\", \"startlinecolor\": \"#2a3f5f\"}, \"baxis\": {\"endlinecolor\": \"#2a3f5f\", \"gridcolor\": \"white\", \"linecolor\": \"white\", \"minorgridcolor\": \"white\", \"startlinecolor\": \"#2a3f5f\"}, \"type\": \"carpet\"}], \"choropleth\": [{\"colorbar\": {\"outlinewidth\": 0, \"ticks\": \"\"}, \"type\": \"choropleth\"}], \"contour\": [{\"colorbar\": {\"outlinewidth\": 0, \"ticks\": \"\"}, \"colorscale\": [[0.0, \"#0d0887\"], [0.1111111111111111, \"#46039f\"], [0.2222222222222222, \"#7201a8\"], [0.3333333333333333, \"#9c179e\"], [0.4444444444444444, \"#bd3786\"], [0.5555555555555556, \"#d8576b\"], [0.6666666666666666, \"#ed7953\"], [0.7777777777777778, \"#fb9f3a\"], [0.8888888888888888, \"#fdca26\"], [1.0, \"#f0f921\"]], \"type\": \"contour\"}], \"contourcarpet\": [{\"colorbar\": {\"outlinewidth\": 0, \"ticks\": \"\"}, \"type\": \"contourcarpet\"}], \"heatmap\": [{\"colorbar\": {\"outlinewidth\": 0, \"ticks\": \"\"}, \"colorscale\": [[0.0, \"#0d0887\"], [0.1111111111111111, \"#46039f\"], [0.2222222222222222, \"#7201a8\"], [0.3333333333333333, \"#9c179e\"], [0.4444444444444444, \"#bd3786\"], [0.5555555555555556, \"#d8576b\"], [0.6666666666666666, \"#ed7953\"], [0.7777777777777778, \"#fb9f3a\"], [0.8888888888888888, \"#fdca26\"], [1.0, \"#f0f921\"]], \"type\": \"heatmap\"}], \"heatmapgl\": [{\"colorbar\": {\"outlinewidth\": 0, \"ticks\": \"\"}, \"colorscale\": [[0.0, \"#0d0887\"], [0.1111111111111111, \"#46039f\"], [0.2222222222222222, \"#7201a8\"], [0.3333333333333333, \"#9c179e\"], [0.4444444444444444, \"#bd3786\"], [0.5555555555555556, \"#d8576b\"], [0.6666666666666666, \"#ed7953\"], [0.7777777777777778, \"#fb9f3a\"], [0.8888888888888888, \"#fdca26\"], [1.0, \"#f0f921\"]], \"type\": \"heatmapgl\"}], \"histogram\": [{\"marker\": {\"colorbar\": {\"outlinewidth\": 0, \"ticks\": \"\"}}, \"type\": \"histogram\"}], \"histogram2d\": [{\"colorbar\": {\"outlinewidth\": 0, \"ticks\": \"\"}, \"colorscale\": [[0.0, \"#0d0887\"], [0.1111111111111111, \"#46039f\"], [0.2222222222222222, \"#7201a8\"], [0.3333333333333333, \"#9c179e\"], [0.4444444444444444, \"#bd3786\"], [0.5555555555555556, \"#d8576b\"], [0.6666666666666666, \"#ed7953\"], [0.7777777777777778, \"#fb9f3a\"], [0.8888888888888888, \"#fdca26\"], [1.0, \"#f0f921\"]], \"type\": \"histogram2d\"}], \"histogram2dcontour\": [{\"colorbar\": {\"outlinewidth\": 0, \"ticks\": \"\"}, \"colorscale\": [[0.0, \"#0d0887\"], [0.1111111111111111, \"#46039f\"], [0.2222222222222222, \"#7201a8\"], [0.3333333333333333, \"#9c179e\"], [0.4444444444444444, \"#bd3786\"], [0.5555555555555556, \"#d8576b\"], [0.6666666666666666, \"#ed7953\"], [0.7777777777777778, \"#fb9f3a\"], [0.8888888888888888, \"#fdca26\"], [1.0, \"#f0f921\"]], \"type\": \"histogram2dcontour\"}], \"mesh3d\": [{\"colorbar\": {\"outlinewidth\": 0, \"ticks\": \"\"}, \"type\": \"mesh3d\"}], \"parcoords\": [{\"line\": {\"colorbar\": {\"outlinewidth\": 0, \"ticks\": \"\"}}, \"type\": \"parcoords\"}], \"pie\": [{\"automargin\": true, \"type\": \"pie\"}], \"scatter\": [{\"marker\": {\"colorbar\": {\"outlinewidth\": 0, \"ticks\": \"\"}}, \"type\": \"scatter\"}], \"scatter3d\": [{\"line\": {\"colorbar\": {\"outlinewidth\": 0, \"ticks\": \"\"}}, \"marker\": {\"colorbar\": {\"outlinewidth\": 0, \"ticks\": \"\"}}, \"type\": \"scatter3d\"}], \"scattercarpet\": [{\"marker\": {\"colorbar\": {\"outlinewidth\": 0, \"ticks\": \"\"}}, \"type\": \"scattercarpet\"}], \"scattergeo\": [{\"marker\": {\"colorbar\": {\"outlinewidth\": 0, \"ticks\": \"\"}}, \"type\": \"scattergeo\"}], \"scattergl\": [{\"marker\": {\"colorbar\": {\"outlinewidth\": 0, \"ticks\": \"\"}}, \"type\": \"scattergl\"}], \"scattermapbox\": [{\"marker\": {\"colorbar\": {\"outlinewidth\": 0, \"ticks\": \"\"}}, \"type\": \"scattermapbox\"}], \"scatterpolar\": [{\"marker\": {\"colorbar\": {\"outlinewidth\": 0, \"ticks\": \"\"}}, \"type\": \"scatterpolar\"}], \"scatterpolargl\": [{\"marker\": {\"colorbar\": {\"outlinewidth\": 0, \"ticks\": \"\"}}, \"type\": \"scatterpolargl\"}], \"scatterternary\": [{\"marker\": {\"colorbar\": {\"outlinewidth\": 0, \"ticks\": \"\"}}, \"type\": \"scatterternary\"}], \"surface\": [{\"colorbar\": {\"outlinewidth\": 0, \"ticks\": \"\"}, \"colorscale\": [[0.0, \"#0d0887\"], [0.1111111111111111, \"#46039f\"], [0.2222222222222222, \"#7201a8\"], [0.3333333333333333, \"#9c179e\"], [0.4444444444444444, \"#bd3786\"], [0.5555555555555556, \"#d8576b\"], [0.6666666666666666, \"#ed7953\"], [0.7777777777777778, \"#fb9f3a\"], [0.8888888888888888, \"#fdca26\"], [1.0, \"#f0f921\"]], \"type\": \"surface\"}], \"table\": [{\"cells\": {\"fill\": {\"color\": \"#EBF0F8\"}, \"line\": {\"color\": \"white\"}}, \"header\": {\"fill\": {\"color\": \"#C8D4E3\"}, \"line\": {\"color\": \"white\"}}, \"type\": \"table\"}]}, \"layout\": {\"annotationdefaults\": {\"arrowcolor\": \"#2a3f5f\", \"arrowhead\": 0, \"arrowwidth\": 1}, \"coloraxis\": {\"colorbar\": {\"outlinewidth\": 0, \"ticks\": \"\"}}, \"colorscale\": {\"diverging\": [[0, \"#8e0152\"], [0.1, \"#c51b7d\"], [0.2, \"#de77ae\"], [0.3, \"#f1b6da\"], [0.4, \"#fde0ef\"], [0.5, \"#f7f7f7\"], [0.6, \"#e6f5d0\"], [0.7, \"#b8e186\"], [0.8, \"#7fbc41\"], [0.9, \"#4d9221\"], [1, \"#276419\"]], \"sequential\": [[0.0, \"#0d0887\"], [0.1111111111111111, \"#46039f\"], [0.2222222222222222, \"#7201a8\"], [0.3333333333333333, \"#9c179e\"], [0.4444444444444444, \"#bd3786\"], [0.5555555555555556, \"#d8576b\"], [0.6666666666666666, \"#ed7953\"], [0.7777777777777778, \"#fb9f3a\"], [0.8888888888888888, \"#fdca26\"], [1.0, \"#f0f921\"]], \"sequentialminus\": [[0.0, \"#0d0887\"], [0.1111111111111111, \"#46039f\"], [0.2222222222222222, \"#7201a8\"], [0.3333333333333333, \"#9c179e\"], [0.4444444444444444, \"#bd3786\"], [0.5555555555555556, \"#d8576b\"], [0.6666666666666666, \"#ed7953\"], [0.7777777777777778, \"#fb9f3a\"], [0.8888888888888888, \"#fdca26\"], [1.0, \"#f0f921\"]]}, \"colorway\": [\"#636efa\", \"#EF553B\", \"#00cc96\", \"#ab63fa\", \"#FFA15A\", \"#19d3f3\", \"#FF6692\", \"#B6E880\", \"#FF97FF\", \"#FECB52\"], \"font\": {\"color\": \"#2a3f5f\"}, \"geo\": {\"bgcolor\": \"white\", \"lakecolor\": \"white\", \"landcolor\": \"#E5ECF6\", \"showlakes\": true, \"showland\": true, \"subunitcolor\": \"white\"}, \"hoverlabel\": {\"align\": \"left\"}, \"hovermode\": \"closest\", \"mapbox\": {\"style\": \"light\"}, \"paper_bgcolor\": \"white\", \"plot_bgcolor\": \"#E5ECF6\", \"polar\": {\"angularaxis\": {\"gridcolor\": \"white\", \"linecolor\": \"white\", \"ticks\": \"\"}, \"bgcolor\": \"#E5ECF6\", \"radialaxis\": {\"gridcolor\": \"white\", \"linecolor\": \"white\", \"ticks\": \"\"}}, \"scene\": {\"xaxis\": {\"backgroundcolor\": \"#E5ECF6\", \"gridcolor\": \"white\", \"gridwidth\": 2, \"linecolor\": \"white\", \"showbackground\": true, \"ticks\": \"\", \"zerolinecolor\": \"white\"}, \"yaxis\": {\"backgroundcolor\": \"#E5ECF6\", \"gridcolor\": \"white\", \"gridwidth\": 2, \"linecolor\": \"white\", \"showbackground\": true, \"ticks\": \"\", \"zerolinecolor\": \"white\"}, \"zaxis\": {\"backgroundcolor\": \"#E5ECF6\", \"gridcolor\": \"white\", \"gridwidth\": 2, \"linecolor\": \"white\", \"showbackground\": true, \"ticks\": \"\", \"zerolinecolor\": \"white\"}}, \"shapedefaults\": {\"line\": {\"color\": \"#2a3f5f\"}}, \"ternary\": {\"aaxis\": {\"gridcolor\": \"white\", \"linecolor\": \"white\", \"ticks\": \"\"}, \"baxis\": {\"gridcolor\": \"white\", \"linecolor\": \"white\", \"ticks\": \"\"}, \"bgcolor\": \"#E5ECF6\", \"caxis\": {\"gridcolor\": \"white\", \"linecolor\": \"white\", \"ticks\": \"\"}}, \"title\": {\"x\": 0.05}, \"xaxis\": {\"automargin\": true, \"gridcolor\": \"white\", \"linecolor\": \"white\", \"ticks\": \"\", \"title\": {\"standoff\": 15}, \"zerolinecolor\": \"white\", \"zerolinewidth\": 2}, \"yaxis\": {\"automargin\": true, \"gridcolor\": \"white\", \"linecolor\": \"white\", \"ticks\": \"\", \"title\": {\"standoff\": 15}, \"zerolinecolor\": \"white\", \"zerolinewidth\": 2}}}, \"title\": {\"text\": \"Frequ\\u00eancia dos termos de composi\\u00e7\\u00e3o a partir do termo \\u201cInforma\\u00e7\\u00e3o\\u201d\", \"x\": 0, \"xref\": \"paper\"}, \"xaxis\": {\"title\": {\"font\": {\"color\": \"#7f7f7f\", \"family\": \"Courier New, monospace\", \"size\": 18}, \"text\": \"Anos\"}}, \"yaxis\": {\"title\": {\"font\": {\"color\": \"#7f7f7f\", \"family\": \"Courier New, monospace\", \"size\": 18}, \"text\": \"Frequ\\u00eancia\"}}},\n",
       "                        {\"responsive\": true}\n",
       "                    ).then(function(){\n",
       "                            \n",
       "var gd = document.getElementById('ef51159a-3754-46bf-908a-cfd5ace08d6d');\n",
       "var x = new MutationObserver(function (mutations, observer) {{\n",
       "        var display = window.getComputedStyle(gd).display;\n",
       "        if (!display || display === 'none') {{\n",
       "            console.log([gd, 'removed!']);\n",
       "            Plotly.purge(gd);\n",
       "            observer.disconnect();\n",
       "        }}\n",
       "}});\n",
       "\n",
       "// Listen for the removal of the full notebook cells\n",
       "var notebookContainer = gd.closest('#notebook-container');\n",
       "if (notebookContainer) {{\n",
       "    x.observe(notebookContainer, {childList: true});\n",
       "}}\n",
       "\n",
       "// Listen for the clearing of the current output cell\n",
       "var outputEl = gd.closest('.output');\n",
       "if (outputEl) {{\n",
       "    x.observe(outputEl, {childList: true});\n",
       "}}\n",
       "\n",
       "                        })\n",
       "                };\n",
       "                });\n",
       "            </script>\n",
       "        </div>"
      ]
     },
     "metadata": {},
     "output_type": "display_data"
    }
   ],
   "source": [
    "trace2 = go.Scatter(x = ['2012', '2013', '2014', '2015', '2016', '2017', '2018'],\n",
    "                    y = [20,0,14,0,0,13,0],\n",
    "                    mode = 'markers+lines',\n",
    "                    name = 'dados_informação_conhecimento')\n",
    "#Informação\n",
    "trace27 = go.Scatter(x = ['2012', '2013', '2014', '2015', '2016', '2017', '2018'],\n",
    "                    y = [474,418,376,459,502,581,571 ],\n",
    "                    mode = 'markers+lines',\n",
    "                    name = 'informação_conhecimento')\n",
    "\n",
    "trace28 = go.Scatter(x = ['2012', '2013', '2014', '2015', '2016', '2017', '2018'],\n",
    "                    y = [19056, 17936, 20495, 17934, 22559, 23111, 27146 ],\n",
    "                    mode = 'markers+lines',\n",
    "                    name = 'informação')\n",
    "\n",
    "trace29 = go.Scatter(x = ['2012', '2013', '2014', '2015', '2016', '2017', '2018'],\n",
    "                    y = [102,77,108,65,58,211,175],\n",
    "                    mode = 'markers+lines',\n",
    "                    name = 'apropriação_informação')\n",
    "\n",
    "trace30 = go.Scatter(x = ['2012', '2013', '2014', '2015', '2016', '2017', '2018'],\n",
    "                    y = [161,167,237,108,324,165,283 ],\n",
    "                    mode = 'markers+lines',\n",
    "                    name = 'arquitetura_informação')\n",
    "\n",
    "trace31 = go.Scatter(x = ['2012', '2013', '2014', '2015', '2016', '2017', '2018'],\n",
    "                    y = [0,25,0,0,0,0,0 ],\n",
    "                    mode = 'markers+lines',\n",
    "                    name = 'artefatos_informação')\n",
    "\n",
    "trace32 = go.Scatter(x = ['2012', '2013', '2014', '2015', '2016', '2017', '2018'],\n",
    "                    y = [0,0,0,53,0,0,0 ],\n",
    "                    mode = 'markers+lines',\n",
    "                    name = 'auditoria_informação')\n",
    "\n",
    "trace33 = go.Scatter(x = ['2012', '2013', '2014', '2015', '2016', '2017', '2018'],\n",
    "                    y = [160,131,162,192,119,167,144 ],\n",
    "                    mode = 'markers+lines',\n",
    "                    name = 'busca_informação')\n",
    "\n",
    "trace34 = go.Scatter(x = ['2012', '2013', '2014', '2015', '2016', '2017', '2018'],\n",
    "                    y = [40,44,11,31,0,55,65 ],\n",
    "                    mode = 'markers+lines',\n",
    "                    name = 'circulação_apropriação_informação')\n",
    "\n",
    "trace35 = go.Scatter(x = ['2012', '2013', '2014', '2015', '2016', '2017', '2018'],\n",
    "                    y = [32,32,33,0,0,0,0 ],\n",
    "                    mode = 'markers+lines',\n",
    "                    name = 'circulação_informação')\n",
    "\n",
    "trace36 = go.Scatter(x = ['2012', '2013', '2014', '2015', '2016', '2017', '2018'],\n",
    "                    y = [65,70,90,81,97,176,118 ],\n",
    "                    mode = 'markers+lines',\n",
    "                    name = 'compartilhamento_informação')\n",
    "\n",
    "trace37 = go.Scatter(x = ['2012', '2013', '2014', '2015', '2016', '2017', '2018'],\n",
    "                    y = [106,132,126,239,367,449,703],\n",
    "                    mode = 'markers+lines',\n",
    "                    name = 'competência_informação')\n",
    "\n",
    "trace38 = go.Scatter(x = ['2012', '2013', '2014', '2015', '2016', '2017', '2018'],\n",
    "                    y = [199,109,120,232,134,125,137 ],\n",
    "                    mode = 'markers+lines',\n",
    "                    name = 'comportamento_informacional')\n",
    "\n",
    "trace39 = go.Scatter(x = ['2012', '2013', '2014', '2015', '2016', '2017', '2018'],\n",
    "                    y = [126,153,103,143,174,195,187],\n",
    "                    mode = 'markers+lines',\n",
    "                    name = 'comunicação_informação')\n",
    "\n",
    "trace40 = go.Scatter(x = ['2012', '2013', '2014', '2015', '2016', '2017', '2018'],\n",
    "                    y = [90,79,103,63,147,121,143],\n",
    "                    mode = 'markers+lines',\n",
    "                    name = 'conceito_informação')\n",
    "\n",
    "trace41 = go.Scatter(x = ['2012', '2013', '2014', '2015', '2016', '2017', '2018'],\n",
    "                    y = [0,0,0,0,32,0,0],\n",
    "                    mode = 'markers+lines',\n",
    "                    name = 'cultura_informação')\n",
    "\n",
    "trace42 = go.Scatter(x = ['2012', '2013', '2014', '2015', '2016', '2017', '2018'],\n",
    "                    y = [0,31,0,0,0,0,0 ],\n",
    "                    mode = 'markers+lines',\n",
    "                    name = 'difusão_informação')\n",
    "\n",
    "trace43 = go.Scatter(x = ['2012', '2013', '2014', '2015', '2016', '2017', '2018'],\n",
    "                    y = [144,101,92,100,101,53,80 ],\n",
    "                    mode = 'markers+lines',\n",
    "                    name = 'direito_informação')\n",
    "\n",
    "trace44 = go.Scatter(x = ['2012', '2013', '2014', '2015', '2016', '2017', '2018'],\n",
    "                    y = [0,30,0,32,0,39,0 ],\n",
    "                    mode = 'markers+lines',\n",
    "                    name = 'disponibilização_informação')\n",
    "\n",
    "trace45 = go.Scatter(x = ['2012', '2013', '2014', '2015', '2016', '2017', '2018'],\n",
    "                    y = [117,133,117,111,118,125,141 ],\n",
    "                    mode = 'markers+lines',\n",
    "                    name = 'disseminação_informação')\n",
    "\n",
    "trace46 = go.Scatter(x = ['2012', '2013', '2014', '2015', '2016', '2017', '2018'],\n",
    "                    y = [27,0,41,34,41,0,0 ],\n",
    "                    mode = 'markers+lines',\n",
    "                    name = 'divulgação_informação')\n",
    "\n",
    "trace47 = go.Scatter(x = ['2012', '2013', '2014', '2015', '2016', '2017', '2018'],\n",
    "                    y = [0,41,0,41,47,59,58 ],\n",
    "                    mode = 'markers+lines',\n",
    "                    name = 'economia_informação')\n",
    "\n",
    "trace48 = go.Scatter(x = ['2012', '2013', '2014', '2015', '2016', '2017', '2018'],\n",
    "                    y = [33,64,27,0,0,32,55 ],\n",
    "                    mode = 'markers+lines',\n",
    "                    name = 'epistemologia_informação')\n",
    "\n",
    "trace49 = go.Scatter(x = ['2012', '2013', '2014', '2015', '2016', '2017', '2018'],\n",
    "                    y = [0,23,64,0,0,38,50 ],\n",
    "                    mode = 'markers+lines',\n",
    "                    name = 'filosofia_informação')\n",
    "\n",
    "trace50 = go.Scatter(x = ['2012', '2013', '2014', '2015', '2016', '2017', '2018'],\n",
    "                    y = [182,133,209,129,135,202,198],\n",
    "                    mode = 'markers+lines',\n",
    "                    name = 'fluxo_informação')\n",
    "\n",
    "trace51 = go.Scatter(x = ['2012', '2013', '2014', '2015', '2016', '2017', '2018'],\n",
    "                    y = [328,361,452,368,339,412,453],\n",
    "                    mode = 'markers+lines',\n",
    "                    name = 'fonte_informação')\n",
    "\n",
    "trace52 = go.Scatter(x = ['2012', '2013', '2014', '2015', '2016', '2017', '2018'],\n",
    "                    y = [174,114,84,147,159,99,115],\n",
    "                    mode = 'markers+lines',\n",
    "                    name = 'gestão_informação')\n",
    "\n",
    "trace53 = go.Scatter(x = ['2012', '2013', '2014', '2015', '2016', '2017', '2018'],\n",
    "                    y = [4207, 4272, 4657, 4580, 5893, 7135, 6720 ],\n",
    "                    mode = 'markers+lines',\n",
    "                    name = 'informação_científica')\n",
    "\n",
    "trace54 = go.Scatter(x = ['2012', '2013', '2014', '2015', '2016', '2017', '2018'],\n",
    "                    y = [369,396,297,321,315,344,347 ],\n",
    "                    mode = 'markers+lines',\n",
    "                    name = 'informação_comunicação')\n",
    "\n",
    "trace55 = go.Scatter(x = ['2012', '2013', '2014', '2015', '2016', '2017', '2018'],\n",
    "                    y = [31,37,35,32,40,47,40 ],\n",
    "                    mode = 'markers+lines',\n",
    "                    name = 'informação_cultura')\n",
    "\n",
    "trace56 = go.Scatter(x = ['2012', '2013', '2014', '2015', '2016', '2017', '2018'],\n",
    "                    y = [35,47,34,29,108,91,43],\n",
    "                    mode = 'markers+lines',\n",
    "                    name = 'informação_digital')\n",
    "\n",
    "trace57 = go.Scatter(x = ['2012', '2013', '2014', '2015', '2016', '2017', '2018'],\n",
    "                    y = [116,82,55,102,104,111,140 ],\n",
    "                    mode = 'markers+lines',\n",
    "                    name = 'informação_memória')\n",
    "\n",
    "trace58 = go.Scatter(x = ['2012', '2013', '2014', '2015', '2016', '2017', '2018'],\n",
    "                    y = [133,124,129,102,139,186,168],\n",
    "                    mode = 'markers+lines',\n",
    "                    name = 'informação_sociedade')\n",
    "\n",
    "trace59 = go.Scatter(x = ['2012', '2013', '2014', '2015', '2016', '2017', '2018'],\n",
    "                    y = [458,496,529,560,756,1007,1153 ],\n",
    "                    mode = 'markers+lines',\n",
    "                    name = 'informação_tecnologia')\n",
    "\n",
    "trace60 = go.Scatter(x = ['2012', '2013', '2014', '2015', '2016', '2017', '2018'],\n",
    "                    y = [65,104,76,140,119,81,109],\n",
    "                    mode = 'markers+lines',\n",
    "                    name = 'lei_informação')\n",
    "\n",
    "trace61 = go.Scatter(x = ['2012', '2013', '2014', '2015', '2016', '2017', '2018'],\n",
    "                    y = [102,102,144,144,180,163,219 ],\n",
    "                    mode = 'markers+lines',\n",
    "                    name = 'mediação_informação')\n",
    "\n",
    "trace62 = go.Scatter(x = ['2012', '2013', '2014', '2015', '2016', '2017', '2018'],\n",
    "                    y = [173,200,214,165,118,153,206 ],\n",
    "                    mode = 'markers+lines',\n",
    "                    name = 'necessidades_informação')\n",
    "\n",
    "trace63 = go.Scatter(x = ['2012', '2013', '2014', '2015', '2016', '2017', '2018'],\n",
    "                    y = [40,8,23,20,30,21,26],\n",
    "                    mode = 'markers+lines',\n",
    "                    name = 'novas_tecnologias_informação')\n",
    "\n",
    "trace64 = go.Scatter(x = ['2012', '2013', '2014', '2015', '2016', '2017', '2018'],\n",
    "                    y = [0,64,28,28,0,0,0 ],\n",
    "                    mode = 'markers+lines',\n",
    "                    name = 'obtenção_informação')\n",
    "\n",
    "trace65 = go.Scatter(x = ['2012', '2013', '2014', '2015', '2016', '2017', '2018'],\n",
    "                    y = [183,288,307,100,313,213,252 ],\n",
    "                    mode = 'markers+lines',\n",
    "                    name = 'organização_informação')\n",
    "\n",
    "trace66 = go.Scatter(x = ['2012', '2013', '2014', '2015', '2016', '2017', '2018'],\n",
    "                    y = [122,94,136,103,139,158,159 ],\n",
    "                    mode = 'markers+lines',\n",
    "                    name = 'perspectivas_informação')\n",
    "\n",
    "trace67 = go.Scatter(x = ['2012', '2013', '2014', '2015', '2016', '2017', '2018'],\n",
    "                    y = [32,29,0,26,38,43,49 ],\n",
    "                    mode = 'markers+lines',\n",
    "                    name = 'política_economia_informação')\n",
    "\n",
    "trace68 = go.Scatter(x = ['2012', '2013', '2014', '2015', '2016', '2017', '2018'],\n",
    "                    y = [69,163,41,39,41,102,137],\n",
    "                    mode = 'markers+lines',\n",
    "                    name = 'política_informação')\n",
    "\n",
    "trace69 = go.Scatter(x = ['2012', '2013', '2014', '2015', '2016', '2017', '2018'],\n",
    "                    y = [25,0,0,0,42,0,0],\n",
    "                    mode = 'markers+lines',\n",
    "                    name = 'preservação_informação')\n",
    "\n",
    "trace70 = go.Scatter(x = ['2012', '2013', '2014', '2015', '2016', '2017', '2018'],\n",
    "                    y = [28,29,30,35,33,0,52 ],\n",
    "                    mode = 'markers+lines',\n",
    "                    name = 'processamento_informação')\n",
    "\n",
    "trace71 = go.Scatter(x = ['2012', '2013', '2014', '2015', '2016', '2017', '2018'],\n",
    "                    y = [37,46,0,36,50,72,58 ],\n",
    "                    mode = 'markers+lines',\n",
    "                    name = 'produção_comunicação_informação')\n",
    "\n",
    "trace72 = go.Scatter(x = ['2012', '2013', '2014', '2015', '2016', '2017', '2018'],\n",
    "                    y = [55,103,47,49,44,44,110 ],\n",
    "                    mode = 'markers+lines',\n",
    "                    name = 'produção_informação')\n",
    "\n",
    "trace73 = go.Scatter(x = ['2012', '2013', '2014', '2015', '2016', '2017', '2018'],\n",
    "                    y = [249,214,331,201,245,284,206 ],\n",
    "                    mode = 'markers+lines',\n",
    "                    name = 'profissional_informação')\n",
    "\n",
    "trace74 = go.Scatter(x = ['2012', '2013', '2014', '2015', '2016', '2017', '2018'],\n",
    "                    y = [114,64,44,48,43,92,117 ],\n",
    "                    mode = 'markers+lines',\n",
    "                    name = 'qualidade_informação')\n",
    "\n",
    "trace75 = go.Scatter(x = ['2012', '2013', '2014', '2015', '2016', '2017', '2018'],\n",
    "                    y = [497,431,602,716,564,632,559 ],\n",
    "                    mode = 'markers+lines',\n",
    "                    name = 'recuperação_informação')\n",
    "\n",
    "trace76 = go.Scatter(x = ['2012', '2013', '2014', '2015', '2016', '2017', '2018'],\n",
    "                    y = [92,150,97,131,124,201,310],\n",
    "                    mode = 'markers+lines',\n",
    "                    name = 'regime_informação')\n",
    "\n",
    "trace77 = go.Scatter(x = ['2012', '2013', '2014', '2015', '2016', '2017', '2018'],\n",
    "                    y = [124,136,175,129,225,199,284],\n",
    "                    mode = 'markers+lines',\n",
    "                    name = 'representação_informação')\n",
    "\n",
    "trace78 = go.Scatter(x = ['2012', '2013', '2014', '2015', '2016', '2017', '2018'],\n",
    "                    y = [0,51,28,34,65,0,63 ],\n",
    "                    mode = 'markers+lines',\n",
    "                    name = 'segurança_informação')\n",
    "\n",
    "trace79 = go.Scatter(x = ['2012', '2013', '2014', '2015', '2016', '2017', '2018'],\n",
    "                    y = [95,79,125,104,86,90,173 ],\n",
    "                    mode = 'markers+lines',\n",
    "                    name = 'serviços_informação')\n",
    "\n",
    "trace80 = go.Scatter(x = ['2012', '2013', '2014', '2015', '2016', '2017', '2018'],\n",
    "                    y = [428,310,359,282,278,342,474],\n",
    "                    mode = 'markers+lines',\n",
    "                    name = 'sistema_informação')\n",
    "\n",
    "trace81 = go.Scatter(x = ['2012', '2013', '2014', '2015', '2016', '2017', '2018'],\n",
    "                    y = [74,85,111,189,93,108,54],\n",
    "                    mode = 'markers+lines',\n",
    "                    name = 'sistema_recuperação_informação')\n",
    "\n",
    "trace82 = go.Scatter(x = ['2012', '2013', '2014', '2015', '2016', '2017', '2018'],\n",
    "                    y = [174,149,190,193,176,183,255 ],\n",
    "                    mode = 'markers+lines',\n",
    "                    name = 'sociedade_informação')\n",
    "\n",
    "trace83 = go.Scatter(x = ['2012', '2013', '2014', '2015', '2016', '2017', '2018'],\n",
    "                    y = [402,360,399,314,373,413,459 ],\n",
    "                    mode = 'markers+lines',\n",
    "                    name = 'tecnologia_informação')\n",
    "\n",
    "trace84 = go.Scatter(x = ['2012', '2013', '2014', '2015', '2016', '2017', '2018'],\n",
    "                    y = [184,154,152,136,148,182,171 ],\n",
    "                    mode = 'markers+lines',\n",
    "                    name = 'tecnologias_informação_comunicação')\n",
    "\n",
    "trace85 = go.Scatter(x = ['2012', '2013', '2014', '2015', '2016', '2017', '2018'],\n",
    "                    y = [56,68,74,45,55,56,121 ],\n",
    "                    mode = 'markers+lines',\n",
    "                    name = 'tratamento_informação')\n",
    "\n",
    "trace86 = go.Scatter(x = ['2012', '2013', '2014', '2015', '2016', '2017', '2018'],\n",
    "                    y = [61,51,31,30,32,0,0],\n",
    "                    mode = 'markers+lines',\n",
    "                    name = 'troca_informação')\n",
    "\n",
    "trace87 = go.Scatter(x = ['2012', '2013', '2014', '2015', '2016', '2017', '2018'],\n",
    "                    y = [83,67,70,104,147,74,119 ],\n",
    "                    mode = 'markers+lines',\n",
    "                    name = 'unidades_informação')\n",
    "\n",
    "trace88 = go.Scatter(x = ['2012', '2013', '2014', '2015', '2016', '2017', '2018'],\n",
    "                    y = [333,333,316,324,325,312,376,405],\n",
    "                    mode = 'markers+lines',\n",
    "                    name = 'uso_informação')\n",
    "\n",
    "trace89 = go.Scatter(x = ['2012', '2013', '2014', '2015', '2016', '2017', '2018'],\n",
    "                    y = [58,94,44,74,37,66,94 ],\n",
    "                    mode = 'markers+lines',\n",
    "                    name = 'usuários_informação')\n",
    "\n",
    "\n",
    "\n",
    "\n",
    "data = [trace2, trace27, trace28, trace29, trace30, \n",
    "        trace31, trace32, trace33, trace34, trace35, trace36, trace37, trace38, trace39, trace40, \n",
    "        trace41, trace42, trace43, trace44, trace45, trace46, trace47, trace48, trace49, trace50, \n",
    "        trace51, trace52, trace53, trace54, trace55, trace56, trace57, trace58, trace59, trace60, \n",
    "        trace61, trace62, trace63, trace64, trace65, trace66, trace67, trace68, trace69, trace70, \n",
    "        trace71, trace72, trace73, trace74, trace75, trace76, trace77, trace78, trace79, trace80, \n",
    "        trace81, trace82, trace83, trace84, trace85, trace86, trace87, trace88, trace89,  ]\n",
    "\n",
    "layout = go.Layout(\n",
    "    title=go.layout.Title(\n",
    "        text='Frequência dos termos de composição a partir do termo “Informação”',\n",
    "        xref='paper',\n",
    "        x=0\n",
    "    ),\n",
    "    xaxis=go.layout.XAxis(\n",
    "        title=go.layout.xaxis.Title(\n",
    "            text='Anos',\n",
    "            font=dict(\n",
    "                family='Courier New, monospace',\n",
    "                size=18,\n",
    "                color='#7f7f7f'\n",
    "            )\n",
    "        )\n",
    "    ),\n",
    "    yaxis=go.layout.YAxis(\n",
    "        title=go.layout.yaxis.Title(\n",
    "            text='Frequência',\n",
    "            font=dict(\n",
    "                family='Courier New, monospace',\n",
    "                size=18,\n",
    "                color='#7f7f7f'\n",
    "            )\n",
    "        )\n",
    "    )\n",
    ")\n",
    "\n",
    "fig = go.Figure(data=data, layout=layout)\n",
    "py.iplot(fig, filename='styling-names')\n"
   ]
  },
  {
   "cell_type": "code",
   "execution_count": null,
   "metadata": {},
   "outputs": [],
   "source": []
  },
  {
   "cell_type": "code",
   "execution_count": null,
   "metadata": {},
   "outputs": [],
   "source": []
  }
 ],
 "metadata": {
  "kernelspec": {
   "display_name": "Python 3",
   "language": "python",
   "name": "python3"
  },
  "language_info": {
   "codemirror_mode": {
    "name": "ipython",
    "version": 3
   },
   "file_extension": ".py",
   "mimetype": "text/x-python",
   "name": "python",
   "nbconvert_exporter": "python",
   "pygments_lexer": "ipython3",
   "version": "3.7.3"
  }
 },
 "nbformat": 4,
 "nbformat_minor": 2
}
